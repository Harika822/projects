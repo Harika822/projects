{
  "nbformat": 4,
  "nbformat_minor": 0,
  "metadata": {
    "colab": {
      "name": "EmployeeLab.ipynb",
      "provenance": [],
      "collapsed_sections": [],
      "include_colab_link": true
    },
    "kernelspec": {
      "name": "python3",
      "display_name": "Python 3"
    }
  },
  "cells": [
    {
      "cell_type": "markdown",
      "metadata": {
        "id": "view-in-github",
        "colab_type": "text"
      },
      "source": [
        "<a href=\"https://colab.research.google.com/github/Harika822/projects/blob/master/EmployeeLab.ipynb\" target=\"_parent\"><img src=\"https://colab.research.google.com/assets/colab-badge.svg\" alt=\"Open In Colab\"/></a>"
      ]
    },
    {
      "cell_type": "markdown",
      "metadata": {
        "id": "S0gVhMw6c4gT",
        "colab_type": "text"
      },
      "source": [
        "PANDAS LAB EXCERCISE USING EMPLOYEE DATA"
      ]
    },
    {
      "cell_type": "code",
      "metadata": {
        "id": "z-eDjb8fc0oJ",
        "colab_type": "code",
        "colab": {}
      },
      "source": [
        "import pandas as pd\n",
        "#SET Number of Rows and Columns to display\n",
        "pd.options.display.max_rows=10  # how many rows to display when Dataframe execute\n",
        "pd.options.display.max_columns=40 # how many columns to display when Dataframe execute\n",
        "pd.set_option('expand_frame_repr', False) #display all the columns horizontally\n"
      ],
      "execution_count": null,
      "outputs": []
    },
    {
      "cell_type": "code",
      "metadata": {
        "id": "m_JBt_ZAdbI1",
        "colab_type": "code",
        "colab": {
          "base_uri": "https://localhost:8080/",
          "height": 294
        },
        "outputId": "39ad99e7-5036-4f2e-dc47-bdbf52364651"
      },
      "source": [
        "# Step 1: Import Pandas Library and Load the File\n",
        "empdata = pd.read_csv(\"Employee.csv\")\n",
        "print(empdata)"
      ],
      "execution_count": null,
      "outputs": [
        {
          "output_type": "stream",
          "text": [
            "    Emp ID Name Prefix First Name Middle Initial Last Name Gender                        E Mail     Father's Name       Mother's Name Mother's Maiden Name Date of Birth Time of Birth  Age in Yrs.  Weight in Kgs. Date of Joining Quarter of Joining Half of Joining  Year of Joining  Month of Joining Month Name of Joining Short Month  Day of Joining DOW of Joining Short DOW  Age in Company (Years)  Salary Last % Hike          SSN    Phone No.     Place Name              County          City State    Zip     Region   User Name         Password\n",
            "0   677509        Drs.       Lois              H    Walker      F       lois.walker@hotmail.com     Donald Walker        Helen Walker                Lewis     3/29/1981    2:31:49 AM        36.36              60      11/24/2003                 Q4              H2             2003                11              November         Nov              24         Monday       Mon                   13.68  168251         21%  467-99-4677  303-572-8492        Denver              Denver        Denver    CO  80224       West    lhwalker    DCa}.T}X:v?NP\n",
            "1   940761         Ms.     Brenda              S  Robinson      F     brenda.robinson@gmail.com  Raymond Robinson       Judy Robinson                Perry     7/31/1970   12:13:27 PM        47.02              60       7/27/2008                 Q3              H2             2008                 7                  July         Jul              27         Sunday       Sun                    9.01   51063         27%  537-71-4566  225-945-4954     Stonewall             De Soto     Stonewall    LA  71078      South  bsrobinson    TCo\\j#Zg;SQ~o\n",
            "2   428945         Dr.        Joe              W  Robinson      M        joe.robinson@gmail.com    Scott Robinson  Stephanie Robinson               Taylor     6/16/1963   10:45:36 AM        54.15              68        08-03-16                 Q3              H2             2016                 8                August         Aug               3      Wednesday       Wed                    0.98   50155         16%  025-92-3584  219-904-2161  Michigantown             Clinton  Michigantown    IN  46057    Midwest  jwrobinson     GO4$J8MiEh[A\n",
            "3   408351        Drs.      Diane              I     Evans      F         diane.evans@yahoo.com       Jason Evans      Michelle Evans                Allen      12-04-77    2:18:45 AM        39.67              51       4/16/1999                 Q2              H1             1999                 4                 April         Apr              16         Friday       Fri                   18.30  180294          1%  314-35-9851  215-793-6791      Hydetown            Crawford      Hydetown    PA  16328  Northeast     dievans    0gGRtp1HfL<r5\n",
            "4   193819         Mr.   Benjamin              R   Russell      M  benjamin.russell@charter.net   Gregory Russell   Elizabeth Russell               Nelson     4/17/1977    5:41:11 PM        40.31              58       7/25/2013                 Q3              H2             2013                 7                  July         Jul              25       Thursday       Thu                    4.01  117642         13%  121-98-7248  262-404-2252       Fremont             Waupaca       Fremont    WI  54940    Midwest   brrussell   Rd<Y8cp!@R;*%F\n",
            "..     ...         ...        ...            ...       ...    ...                           ...               ...                 ...                  ...           ...           ...          ...             ...             ...                ...             ...              ...               ...                   ...         ...             ...            ...       ...                     ...     ...         ...          ...           ...           ...                 ...           ...   ...    ...        ...         ...              ...\n",
            "95  639892         Mr.       Jose              K      Hill      M         jose.hill@hotmail.com       Carlos Hill           Anna Hill                Hayes      10-08-94    5:23:39 AM        22.82              89        07-09-16                 Q3              H2             2016                 7                  July         Jul               9       Saturday       Sat                    1.05  129774         15%  171-86-3825  228-245-5000        Biloxi            Harrison        Biloxi    MS  39532      South      jkhill  a_!SKb6h3?w*Mad\n",
            "96  704709         Dr.     Harold              Z    Nelson      M       harold.nelson@gmail.com    Richard Nelson       Pamela Nelson                Smith    12/24/1984    9:00:17 PM        32.61              77       8/23/2011                 Q3              H2             2011                 8                August         Aug              23        Tuesday       Tue                    5.93  156194          0%  456-99-2066  217-555-9216  Carol Stream        Carol Stream  Carol Stream    IL  60351    Midwest    hznelson      z/-hEz3&^q5\n",
            "97  461593         Ms.     Nicole              O      Ward      F         nicole.ward@yahoo.com        Ralph Ward          Julia Ward                  Lee      12-12-64    7:12:20 AM        52.66              60       1/23/1989                 Q1              H1             1989                 1               January         Jan              23         Monday       Mon                   28.53   95673         12%  196-84-2551  231-761-7861       Detroit               Wayne       Detroit    MI  48278    Midwest      noward   AUe6s0@:@]A3Ze\n",
            "98  392491        Mrs.    Theresa              R    Murphy      F      theresa.murphy@gmail.com     George Murphy   Jacqueline Murphy             Peterson    12/30/1987    5:56:10 AM        29.60              57        08-03-10                 Q3              H2             2010                 8                August         Aug               3        Tuesday       Tue                    6.99   51015         11%  249-99-8801  907-356-1555      Mc Grath  Yukon-Koyukuk (CA)      Mc Grath    AK  99627       West    trmurphy        V]PGw>4h9\n",
            "99  495141        Drs.      Tammy              B     Young      F       tammy.young@comcast.net      Andrew Young        Brenda Young             Robinson     3/22/1979   10:26:52 PM        38.38              55       4/25/2015                 Q2              H1             2015                 4                 April         Apr              25       Saturday       Sat                    2.26   93650          7%  771-02-7046  231-290-3075          Alma             Gratiot          Alma    MI  48801    Midwest     tbyoung  d6!&xu12A1H^i![\n",
            "\n",
            "[100 rows x 37 columns]\n"
          ],
          "name": "stdout"
        }
      ]
    },
    {
      "cell_type": "code",
      "metadata": {
        "id": "kijc1xygd35j",
        "colab_type": "code",
        "colab": {
          "base_uri": "https://localhost:8080/",
          "height": 35
        },
        "outputId": "4aa129d6-bf64-4d4d-f337-cc10e0423c74"
      },
      "source": [
        "#Step 2: Verify data how many number of rows and colums\n",
        " print(empdata.shape)"
      ],
      "execution_count": null,
      "outputs": [
        {
          "output_type": "stream",
          "text": [
            "(100, 37)\n"
          ],
          "name": "stdout"
        }
      ]
    },
    {
      "cell_type": "code",
      "metadata": {
        "id": "cgGPrLGUeBeR",
        "colab_type": "code",
        "colab": {
          "base_uri": "https://localhost:8080/",
          "height": 807
        },
        "outputId": "b671ef28-d1a7-4887-f21e-04ca7e9e0f45"
      },
      "source": [
        "#Step 3:  Verify the dataframe structure\n",
        "print(empdata.info())"
      ],
      "execution_count": null,
      "outputs": [
        {
          "output_type": "stream",
          "text": [
            "<class 'pandas.core.frame.DataFrame'>\n",
            "RangeIndex: 100 entries, 0 to 99\n",
            "Data columns (total 37 columns):\n",
            "Emp ID                    100 non-null int64\n",
            "Name Prefix               100 non-null object\n",
            "First Name                100 non-null object\n",
            "Middle Initial            100 non-null object\n",
            "Last Name                 100 non-null object\n",
            "Gender                    100 non-null object\n",
            "E Mail                    100 non-null object\n",
            "Father's Name             100 non-null object\n",
            "Mother's Name             100 non-null object\n",
            "Mother's Maiden Name      100 non-null object\n",
            "Date of Birth             100 non-null object\n",
            "Time of Birth             100 non-null object\n",
            "Age in Yrs.               100 non-null float64\n",
            "Weight in Kgs.            100 non-null int64\n",
            "Date of Joining           100 non-null object\n",
            "Quarter of Joining        100 non-null object\n",
            "Half of Joining           100 non-null object\n",
            "Year of Joining           100 non-null int64\n",
            "Month of Joining          100 non-null int64\n",
            "Month Name of Joining     100 non-null object\n",
            "Short Month               100 non-null object\n",
            "Day of Joining            100 non-null int64\n",
            "DOW of Joining            100 non-null object\n",
            "Short DOW                 100 non-null object\n",
            "Age in Company (Years)    100 non-null float64\n",
            "Salary                    100 non-null int64\n",
            "Last % Hike               100 non-null object\n",
            "SSN                       100 non-null object\n",
            "Phone No.                 100 non-null object\n",
            "Place Name                100 non-null object\n",
            "County                    100 non-null object\n",
            "City                      100 non-null object\n",
            "State                     100 non-null object\n",
            "Zip                       100 non-null int64\n",
            "Region                    100 non-null object\n",
            "User Name                 100 non-null object\n",
            "Password                  100 non-null object\n",
            "dtypes: float64(2), int64(7), object(28)\n",
            "memory usage: 29.0+ KB\n",
            "None\n"
          ],
          "name": "stdout"
        }
      ]
    },
    {
      "cell_type": "code",
      "metadata": {
        "id": "zp4_TXWKeKRV",
        "colab_type": "code",
        "colab": {
          "base_uri": "https://localhost:8080/",
          "height": 441
        },
        "outputId": "ab33626a-4484-43cb-e4df-106bd6d0dbbd"
      },
      "source": [
        "#Step 4 : Verify the data in a dataframe, this gives understand of data and format\n",
        " print(empdata.head(10)) # first 10 records\n",
        " print(empdata.tail(10)) # Last 10 records"
      ],
      "execution_count": null,
      "outputs": [
        {
          "output_type": "stream",
          "text": [
            "   Emp ID Name Prefix First Name Middle Initial Last Name Gender                        E Mail      Father's Name       Mother's Name Mother's Maiden Name Date of Birth Time of Birth  Age in Yrs.  Weight in Kgs. Date of Joining Quarter of Joining Half of Joining  Year of Joining  Month of Joining Month Name of Joining Short Month  Day of Joining DOW of Joining Short DOW  Age in Company (Years)  Salary Last % Hike          SSN    Phone No.       Place Name    County            City State    Zip     Region   User Name         Password\n",
            "0  677509        Drs.       Lois              H    Walker      F       lois.walker@hotmail.com      Donald Walker        Helen Walker                Lewis     3/29/1981    2:31:49 AM        36.36              60      11/24/2003                 Q4              H2             2003                11              November         Nov              24         Monday       Mon                   13.68  168251         21%  467-99-4677  303-572-8492          Denver    Denver          Denver    CO  80224       West    lhwalker    DCa}.T}X:v?NP\n",
            "1  940761         Ms.     Brenda              S  Robinson      F     brenda.robinson@gmail.com   Raymond Robinson       Judy Robinson                Perry     7/31/1970   12:13:27 PM        47.02              60       7/27/2008                 Q3              H2             2008                 7                  July         Jul              27         Sunday       Sun                    9.01   51063         27%  537-71-4566  225-945-4954       Stonewall   De Soto       Stonewall    LA  71078      South  bsrobinson    TCo\\j#Zg;SQ~o\n",
            "2  428945         Dr.        Joe              W  Robinson      M        joe.robinson@gmail.com     Scott Robinson  Stephanie Robinson               Taylor     6/16/1963   10:45:36 AM        54.15              68        08-03-16                 Q3              H2             2016                 8                August         Aug               3      Wednesday       Wed                    0.98   50155         16%  025-92-3584  219-904-2161    Michigantown   Clinton    Michigantown    IN  46057    Midwest  jwrobinson     GO4$J8MiEh[A\n",
            "3  408351        Drs.      Diane              I     Evans      F         diane.evans@yahoo.com        Jason Evans      Michelle Evans                Allen      12-04-77    2:18:45 AM        39.67              51       4/16/1999                 Q2              H1             1999                 4                 April         Apr              16         Friday       Fri                   18.30  180294          1%  314-35-9851  215-793-6791        Hydetown  Crawford        Hydetown    PA  16328  Northeast     dievans    0gGRtp1HfL<r5\n",
            "4  193819         Mr.   Benjamin              R   Russell      M  benjamin.russell@charter.net    Gregory Russell   Elizabeth Russell               Nelson     4/17/1977    5:41:11 PM        40.31              58       7/25/2013                 Q3              H2             2013                 7                  July         Jul              25       Thursday       Thu                    4.01  117642         13%  121-98-7248  262-404-2252         Fremont   Waupaca         Fremont    WI  54940    Midwest   brrussell   Rd<Y8cp!@R;*%F\n",
            "5  499687         Mr.    Patrick              F    Bailey      M        patrick.bailey@aol.com       Ralph Bailey        Laura Bailey            Henderson     9/27/1982    1:12:41 PM        34.86              58       7/22/2005                 Q3              H2             2005                 7                  July         Jul              22         Friday       Fri                   12.02   72305          5%  439-99-7721  319-812-6957       Macksburg   Madison       Macksburg    IA  50155    Midwest    pfbailey         K7&5aY/*\n",
            "6  539712         Ms.      Nancy              T     Baker      F            nancy.baker@bp.com        Scott Baker          Judy Baker               Thomas     6/13/1995    8:56:32 PM        22.14              50       9/14/2016                 Q3              H2             2016                 9             September         Sep              14      Wednesday       Wed                    0.87   98189          0%  641-29-2071  229-336-5117         Atlanta    Fulton         Atlanta    GA  30334      South     ntbaker  xJdKlAcYQhT_BE#\n",
            "7  380086        Mrs.      Carol              V    Murphy      F        carol.murphy@gmail.com      Eugene Murphy    Katherine Murphy             Peterson     6/30/1958   10:39:33 AM        59.12              40       1/28/1983                 Q1              H1             1983                 1               January         Jan              28         Friday       Fri                   34.52   60918         20%  423-67-7023  216-336-0009     Blanchester   Clinton     Blanchester    OH  45107    Midwest    cvmurphy     Uc+VG%vuZU<k\n",
            "8  477616        Hon.    Frances              B     Young      F       frances.young@gmail.com         Fred Young       Lillian Young                 Diaz      06-09-59    4:38:47 PM        58.18              42       4/27/1994                 Q2              H1             1994                 4                 April         Apr              27      Wednesday       Wed                   23.27  121587         28%  028-92-8912  210-819-9765         Delmita     Starr         Delmita    TX  78536      South     fbyoung      K}^USc0l7[A\n",
            "9  162402        Hon.      Diana              T  Peterson      F  diana.peterson@hotmail.co.uk  Jonathan Peterson  Christina Peterson                 Ross    11/13/1987    3:59:26 AM        29.73              60       2/17/2014                 Q1              H1             2014                 2              February         Feb              17         Monday       Mon                    3.44   43010          4%  512-33-6767  479-783-5656  Eureka Springs   Carroll  Eureka Springs    AR  72632      South  dtpeterson   3o8>v&tYxjyEAo\n",
            "    Emp ID Name Prefix First Name Middle Initial Last Name Gender                       E Mail   Father's Name      Mother's Name Mother's Maiden Name Date of Birth Time of Birth  Age in Yrs.  Weight in Kgs. Date of Joining Quarter of Joining Half of Joining  Year of Joining  Month of Joining Month Name of Joining Short Month  Day of Joining DOW of Joining Short DOW  Age in Company (Years)  Salary Last % Hike          SSN    Phone No.                Place Name              County                     City State    Zip   Region  User Name         Password\n",
            "90  185032         Mr.     Eugene              D     Perez      M  eugene.perez@exxonmobil.com     Jimmy Perez         Lois Perez                 Hall      10-06-79   11:02:58 AM        37.84              59        12-08-14                 Q4              H2             2014                12              December         Dec               8         Monday       Mon                    2.64  122950         26%  192-86-6418  262-472-7112                   Racine              Racine                   Racine    WI  53490  Midwest    edperez       g]SJn<W_/#\n",
            "91  867084         Ms.    Deborah              E     Smith      F      deborah.smith@yahoo.com   Richard Smith        Diana Smith              Bennett    10/31/1977    8:14:09 PM        39.77              54        03-04-02                 Q1              H1             2002                 3                 March         Mar               4         Monday       Mon                   15.41   52767         28%  173-86-6203  907-279-8694                  Atqasuk         North Slope                  Atqasuk    AK  99791     West    desmith         C[WxHsB9\n",
            "92  969964        Hon.     Janice              S    Parker      F      janice.parker@yahoo.com     Paul Parker       Alice Parker                Perez      01-12-80    8:38:06 AM        37.57              56       8/23/2016                 Q3              H2             2016                 8                August         Aug              23        Tuesday       Tue                    0.93  147641         25%  733-26-1976  314-842-5984  Whiteman Air Force Base             Johnson  Whiteman Air Force Base    MO  65305  Midwest   jsparker        8wUbWmuib\n",
            "93  158666         Ms.    Rebecca              A   Stewart      F    rebecca.stewart@gmail.com   Roger Stewart      Carol Stewart                  Cox      08-11-61   11:08:01 PM        56.00              55        04-10-83                 Q2              H1             1983                 4                 April         Apr              10         Sunday       Sun                   34.32  160043          9%  202-84-8294  209-233-7631             Independence                Inyo             Independence    CA  93526     West  rastewart   7ONuh3Zi^z#32r\n",
            "94  489424         Dr.    Phillip              F     White      M      phillip.white@gmail.com    Harold White      Frances White               Carter      03-04-78   11:45:07 PM        39.43              82        01-05-16                 Q1              H1             2016                 1               January         Jan               5        Tuesday       Tue                    1.56  181774          7%  447-27-9469  503-668-6592                 Mapleton                Lane                 Mapleton    OR  97453     West    pfwhite   8<Mc.5]eu.*C8.\n",
            "95  639892         Mr.       Jose              K      Hill      M        jose.hill@hotmail.com     Carlos Hill          Anna Hill                Hayes      10-08-94    5:23:39 AM        22.82              89        07-09-16                 Q3              H2             2016                 7                  July         Jul               9       Saturday       Sat                    1.05  129774         15%  171-86-3825  228-245-5000                   Biloxi            Harrison                   Biloxi    MS  39532    South     jkhill  a_!SKb6h3?w*Mad\n",
            "96  704709         Dr.     Harold              Z    Nelson      M      harold.nelson@gmail.com  Richard Nelson      Pamela Nelson                Smith    12/24/1984    9:00:17 PM        32.61              77       8/23/2011                 Q3              H2             2011                 8                August         Aug              23        Tuesday       Tue                    5.93  156194          0%  456-99-2066  217-555-9216             Carol Stream        Carol Stream             Carol Stream    IL  60351  Midwest   hznelson      z/-hEz3&^q5\n",
            "97  461593         Ms.     Nicole              O      Ward      F        nicole.ward@yahoo.com      Ralph Ward         Julia Ward                  Lee      12-12-64    7:12:20 AM        52.66              60       1/23/1989                 Q1              H1             1989                 1               January         Jan              23         Monday       Mon                   28.53   95673         12%  196-84-2551  231-761-7861                  Detroit               Wayne                  Detroit    MI  48278  Midwest     noward   AUe6s0@:@]A3Ze\n",
            "98  392491        Mrs.    Theresa              R    Murphy      F     theresa.murphy@gmail.com   George Murphy  Jacqueline Murphy             Peterson    12/30/1987    5:56:10 AM        29.60              57        08-03-10                 Q3              H2             2010                 8                August         Aug               3        Tuesday       Tue                    6.99   51015         11%  249-99-8801  907-356-1555                 Mc Grath  Yukon-Koyukuk (CA)                 Mc Grath    AK  99627     West   trmurphy        V]PGw>4h9\n",
            "99  495141        Drs.      Tammy              B     Young      F      tammy.young@comcast.net    Andrew Young       Brenda Young             Robinson     3/22/1979   10:26:52 PM        38.38              55       4/25/2015                 Q2              H1             2015                 4                 April         Apr              25       Saturday       Sat                    2.26   93650          7%  771-02-7046  231-290-3075                     Alma             Gratiot                     Alma    MI  48801  Midwest    tbyoung  d6!&xu12A1H^i![\n"
          ],
          "name": "stdout"
        }
      ]
    },
    {
      "cell_type": "code",
      "metadata": {
        "id": "8uoRDrvdePkj",
        "colab_type": "code",
        "colab": {
          "base_uri": "https://localhost:8080/",
          "height": 294
        },
        "outputId": "45bc3378-969d-4199-b8ff-a72752720dc4"
      },
      "source": [
        "#Step 5:renaming the existing column\n",
        " empdata.rename(columns={'E Mail':'E-mail'},inplace=True)\n",
        " print(empdata)"
      ],
      "execution_count": null,
      "outputs": [
        {
          "output_type": "stream",
          "text": [
            "    Emp ID Name Prefix First Name Middle Initial Last Name Gender                        E-mail     Father's Name       Mother's Name Mother's Maiden Name Date of Birth Time of Birth  Age in Yrs.  Weight in Kgs. Date of Joining Quarter of Joining Half of Joining  Year of Joining  Month of Joining Month Name of Joining Short Month  Day of Joining DOW of Joining Short DOW  Age in Company (Years)  Salary Last % Hike          SSN    Phone No.     Place Name              County          City State    Zip     Region   User Name         Password\n",
            "0   677509        Drs.       Lois              H    Walker      F       lois.walker@hotmail.com     Donald Walker        Helen Walker                Lewis     3/29/1981    2:31:49 AM        36.36              60      11/24/2003                 Q4              H2             2003                11              November         Nov              24         Monday       Mon                   13.68  168251         21%  467-99-4677  303-572-8492        Denver              Denver        Denver    CO  80224       West    lhwalker    DCa}.T}X:v?NP\n",
            "1   940761         Ms.     Brenda              S  Robinson      F     brenda.robinson@gmail.com  Raymond Robinson       Judy Robinson                Perry     7/31/1970   12:13:27 PM        47.02              60       7/27/2008                 Q3              H2             2008                 7                  July         Jul              27         Sunday       Sun                    9.01   51063         27%  537-71-4566  225-945-4954     Stonewall             De Soto     Stonewall    LA  71078      South  bsrobinson    TCo\\j#Zg;SQ~o\n",
            "2   428945         Dr.        Joe              W  Robinson      M        joe.robinson@gmail.com    Scott Robinson  Stephanie Robinson               Taylor     6/16/1963   10:45:36 AM        54.15              68        08-03-16                 Q3              H2             2016                 8                August         Aug               3      Wednesday       Wed                    0.98   50155         16%  025-92-3584  219-904-2161  Michigantown             Clinton  Michigantown    IN  46057    Midwest  jwrobinson     GO4$J8MiEh[A\n",
            "3   408351        Drs.      Diane              I     Evans      F         diane.evans@yahoo.com       Jason Evans      Michelle Evans                Allen      12-04-77    2:18:45 AM        39.67              51       4/16/1999                 Q2              H1             1999                 4                 April         Apr              16         Friday       Fri                   18.30  180294          1%  314-35-9851  215-793-6791      Hydetown            Crawford      Hydetown    PA  16328  Northeast     dievans    0gGRtp1HfL<r5\n",
            "4   193819         Mr.   Benjamin              R   Russell      M  benjamin.russell@charter.net   Gregory Russell   Elizabeth Russell               Nelson     4/17/1977    5:41:11 PM        40.31              58       7/25/2013                 Q3              H2             2013                 7                  July         Jul              25       Thursday       Thu                    4.01  117642         13%  121-98-7248  262-404-2252       Fremont             Waupaca       Fremont    WI  54940    Midwest   brrussell   Rd<Y8cp!@R;*%F\n",
            "..     ...         ...        ...            ...       ...    ...                           ...               ...                 ...                  ...           ...           ...          ...             ...             ...                ...             ...              ...               ...                   ...         ...             ...            ...       ...                     ...     ...         ...          ...           ...           ...                 ...           ...   ...    ...        ...         ...              ...\n",
            "95  639892         Mr.       Jose              K      Hill      M         jose.hill@hotmail.com       Carlos Hill           Anna Hill                Hayes      10-08-94    5:23:39 AM        22.82              89        07-09-16                 Q3              H2             2016                 7                  July         Jul               9       Saturday       Sat                    1.05  129774         15%  171-86-3825  228-245-5000        Biloxi            Harrison        Biloxi    MS  39532      South      jkhill  a_!SKb6h3?w*Mad\n",
            "96  704709         Dr.     Harold              Z    Nelson      M       harold.nelson@gmail.com    Richard Nelson       Pamela Nelson                Smith    12/24/1984    9:00:17 PM        32.61              77       8/23/2011                 Q3              H2             2011                 8                August         Aug              23        Tuesday       Tue                    5.93  156194          0%  456-99-2066  217-555-9216  Carol Stream        Carol Stream  Carol Stream    IL  60351    Midwest    hznelson      z/-hEz3&^q5\n",
            "97  461593         Ms.     Nicole              O      Ward      F         nicole.ward@yahoo.com        Ralph Ward          Julia Ward                  Lee      12-12-64    7:12:20 AM        52.66              60       1/23/1989                 Q1              H1             1989                 1               January         Jan              23         Monday       Mon                   28.53   95673         12%  196-84-2551  231-761-7861       Detroit               Wayne       Detroit    MI  48278    Midwest      noward   AUe6s0@:@]A3Ze\n",
            "98  392491        Mrs.    Theresa              R    Murphy      F      theresa.murphy@gmail.com     George Murphy   Jacqueline Murphy             Peterson    12/30/1987    5:56:10 AM        29.60              57        08-03-10                 Q3              H2             2010                 8                August         Aug               3        Tuesday       Tue                    6.99   51015         11%  249-99-8801  907-356-1555      Mc Grath  Yukon-Koyukuk (CA)      Mc Grath    AK  99627       West    trmurphy        V]PGw>4h9\n",
            "99  495141        Drs.      Tammy              B     Young      F       tammy.young@comcast.net      Andrew Young        Brenda Young             Robinson     3/22/1979   10:26:52 PM        38.38              55       4/25/2015                 Q2              H1             2015                 4                 April         Apr              25       Saturday       Sat                    2.26   93650          7%  771-02-7046  231-290-3075          Alma             Gratiot          Alma    MI  48801    Midwest     tbyoung  d6!&xu12A1H^i![\n",
            "\n",
            "[100 rows x 37 columns]\n"
          ],
          "name": "stdout"
        }
      ]
    },
    {
      "cell_type": "code",
      "metadata": {
        "id": "ND_-CUR3eZHH",
        "colab_type": "code",
        "colab": {
          "base_uri": "https://localhost:8080/",
          "height": 294
        },
        "outputId": "b3551363-bc39-4a77-865f-38e50b41e5ae"
      },
      "source": [
        "# Step 6 :renaming the existing columns (more than 1 column)\n",
        "empdata.rename(columns=  {'Age in Company (Years)':'Experience_Yrs','Age in Yrs.':'Age_Yrs'},inplace = True)\n",
        "print(empdata)"
      ],
      "execution_count": null,
      "outputs": [
        {
          "output_type": "stream",
          "text": [
            "    Emp ID Name Prefix First Name Middle Name Last Name Gender                        E Mail     Father's Name       Mother's Name Mother's Maiden Name Date of Birth Time of Birth  Age_Yrs  Weight in Kgs. Date of Joining Quarter of Joining Half of Joining  Year of Joining  Month of Joining Month Name of Joining Short Month  Day of Joining DOW of Joining Short DOW  Experience_Yrs  Salary Last % Hike          SSN    Phone No.     Place Name              County          City State    Zip     Region   User Name         Password\n",
            "0   677509        Drs.       Lois           H    Walker      F       lois.walker@hotmail.com     Donald Walker        Helen Walker                Lewis     3/29/1981    2:31:49 AM    36.36              60      11/24/2003                 Q4              H2             2003                11              November         Nov              24         Monday       Mon           13.68  168251         21%  467-99-4677  303-572-8492        Denver              Denver        Denver    CO  80224       West    lhwalker    DCa}.T}X:v?NP\n",
            "1   940761         Ms.     Brenda           S  Robinson      F     brenda.robinson@gmail.com  Raymond Robinson       Judy Robinson                Perry     7/31/1970   12:13:27 PM    47.02              60       7/27/2008                 Q3              H2             2008                 7                  July         Jul              27         Sunday       Sun            9.01   51063         27%  537-71-4566  225-945-4954     Stonewall             De Soto     Stonewall    LA  71078      South  bsrobinson    TCo\\j#Zg;SQ~o\n",
            "2   428945         Dr.        Joe           W  Robinson      M        joe.robinson@gmail.com    Scott Robinson  Stephanie Robinson               Taylor     6/16/1963   10:45:36 AM    54.15              68        08-03-16                 Q3              H2             2016                 8                August         Aug               3      Wednesday       Wed            0.98   50155         16%  025-92-3584  219-904-2161  Michigantown             Clinton  Michigantown    IN  46057    Midwest  jwrobinson     GO4$J8MiEh[A\n",
            "3   408351        Drs.      Diane           I     Evans      F         diane.evans@yahoo.com       Jason Evans      Michelle Evans                Allen      12-04-77    2:18:45 AM    39.67              51       4/16/1999                 Q2              H1             1999                 4                 April         Apr              16         Friday       Fri           18.30  180294          1%  314-35-9851  215-793-6791      Hydetown            Crawford      Hydetown    PA  16328  Northeast     dievans    0gGRtp1HfL<r5\n",
            "4   193819         Mr.   Benjamin           R   Russell      M  benjamin.russell@charter.net   Gregory Russell   Elizabeth Russell               Nelson     4/17/1977    5:41:11 PM    40.31              58       7/25/2013                 Q3              H2             2013                 7                  July         Jul              25       Thursday       Thu            4.01  117642         13%  121-98-7248  262-404-2252       Fremont             Waupaca       Fremont    WI  54940    Midwest   brrussell   Rd<Y8cp!@R;*%F\n",
            "..     ...         ...        ...         ...       ...    ...                           ...               ...                 ...                  ...           ...           ...      ...             ...             ...                ...             ...              ...               ...                   ...         ...             ...            ...       ...             ...     ...         ...          ...           ...           ...                 ...           ...   ...    ...        ...         ...              ...\n",
            "95  639892         Mr.       Jose           K      Hill      M         jose.hill@hotmail.com       Carlos Hill           Anna Hill                Hayes      10-08-94    5:23:39 AM    22.82              89        07-09-16                 Q3              H2             2016                 7                  July         Jul               9       Saturday       Sat            1.05  129774         15%  171-86-3825  228-245-5000        Biloxi            Harrison        Biloxi    MS  39532      South      jkhill  a_!SKb6h3?w*Mad\n",
            "96  704709         Dr.     Harold           Z    Nelson      M       harold.nelson@gmail.com    Richard Nelson       Pamela Nelson                Smith    12/24/1984    9:00:17 PM    32.61              77       8/23/2011                 Q3              H2             2011                 8                August         Aug              23        Tuesday       Tue            5.93  156194          0%  456-99-2066  217-555-9216  Carol Stream        Carol Stream  Carol Stream    IL  60351    Midwest    hznelson      z/-hEz3&^q5\n",
            "97  461593         Ms.     Nicole           O      Ward      F         nicole.ward@yahoo.com        Ralph Ward          Julia Ward                  Lee      12-12-64    7:12:20 AM    52.66              60       1/23/1989                 Q1              H1             1989                 1               January         Jan              23         Monday       Mon           28.53   95673         12%  196-84-2551  231-761-7861       Detroit               Wayne       Detroit    MI  48278    Midwest      noward   AUe6s0@:@]A3Ze\n",
            "98  392491        Mrs.    Theresa           R    Murphy      F      theresa.murphy@gmail.com     George Murphy   Jacqueline Murphy             Peterson    12/30/1987    5:56:10 AM    29.60              57        08-03-10                 Q3              H2             2010                 8                August         Aug               3        Tuesday       Tue            6.99   51015         11%  249-99-8801  907-356-1555      Mc Grath  Yukon-Koyukuk (CA)      Mc Grath    AK  99627       West    trmurphy        V]PGw>4h9\n",
            "99  495141        Drs.      Tammy           B     Young      F       tammy.young@comcast.net      Andrew Young        Brenda Young             Robinson     3/22/1979   10:26:52 PM    38.38              55       4/25/2015                 Q2              H1             2015                 4                 April         Apr              25       Saturday       Sat            2.26   93650          7%  771-02-7046  231-290-3075          Alma             Gratiot          Alma    MI  48801    Midwest     tbyoung  d6!&xu12A1H^i![\n",
            "\n",
            "[100 rows x 37 columns]\n"
          ],
          "name": "stdout"
        }
      ]
    },
    {
      "cell_type": "code",
      "metadata": {
        "id": "JqsFpHJCedh4",
        "colab_type": "code",
        "colab": {
          "base_uri": "https://localhost:8080/",
          "height": 697
        },
        "outputId": "503e630a-e74a-42a5-ea3b-ab070ab99cb6"
      },
      "source": [
        "#Step 7 : Dispaly only Column Names\n",
        "list(empdata)"
      ],
      "execution_count": null,
      "outputs": [
        {
          "output_type": "execute_result",
          "data": {
            "text/plain": [
              "['Emp ID',\n",
              " 'Name Prefix',\n",
              " 'First Name',\n",
              " 'Middle\\xa0Name',\n",
              " 'Last Name',\n",
              " 'Gender',\n",
              " 'E Mail',\n",
              " \"Father's Name\",\n",
              " \"Mother's Name\",\n",
              " \"Mother's Maiden Name\",\n",
              " 'Date of Birth',\n",
              " 'Time of Birth',\n",
              " 'Age_Yrs',\n",
              " 'Weight in Kgs.',\n",
              " 'Date of Joining',\n",
              " 'Quarter of Joining',\n",
              " 'Half of Joining',\n",
              " 'Year of Joining',\n",
              " 'Month of Joining',\n",
              " 'Month Name of Joining',\n",
              " 'Short Month',\n",
              " 'Day of Joining',\n",
              " 'DOW of Joining',\n",
              " 'Short DOW',\n",
              " 'Experience_Yrs',\n",
              " 'Salary',\n",
              " 'Last % Hike',\n",
              " 'SSN',\n",
              " 'Phone No. ',\n",
              " 'Place Name',\n",
              " 'County',\n",
              " 'City',\n",
              " 'State',\n",
              " 'Zip',\n",
              " 'Region',\n",
              " 'User Name',\n",
              " 'Password']"
            ]
          },
          "metadata": {
            "tags": []
          },
          "execution_count": 21
        }
      ]
    },
    {
      "cell_type": "code",
      "metadata": {
        "id": "AcuGf_FqehTW",
        "colab_type": "code",
        "colab": {
          "base_uri": "https://localhost:8080/",
          "height": 294
        },
        "outputId": "3d94d977-8b81-4678-bb38-5b359be88add"
      },
      "source": [
        "#Step 8 : Remove unwanted columns from Dataframe(only for 1 time execution)\n",
        "#empdata.drop(['Name Prefix'], axis=1, inplace=True)\n",
        "#empdata.drop(['E Mail', \"Father's Name\", \"Gender\", \"Mother's Maiden Name\"],axis=2, inplace= True)\n",
        "empdata.drop(['Gender'],axis=1,inplace=True)\n",
        "print(empdata)\n"
      ],
      "execution_count": null,
      "outputs": [
        {
          "output_type": "stream",
          "text": [
            "    Emp ID First Name Middle Initial Last Name                        E-mail    Father's Name      Mother's Name Mother's Maiden Name Date of Birth Time of Birth  Age in Yrs.  Weight in Kgs. Date of Joining Quarter of Joining Half of Joining  Year of Joining  Month of Joining Month Name of Joining Short Month  Day of Joining DOW of Joining Short DOW  Age in Company (Years)  Salary Last % Hike          SSN    Phone No.     Place Name              County          City State    Zip   Region  User Name         Password\n",
            "36  218791      Aaron              N     Price            aaron.price@bp.com    Michael Price        Diana Price               Torres    1969-02-10    3:42:13 AM        48.49              56        07-03-97                 Q3              H2             1997                 7                  July         Jul               3       Thursday       Thu                   20.08   54402          0%  491-29-5152  219-287-8926       Eckerty            Crawford       Eckerty    IN  47116  Midwest    anprice      uKxgV4uO&k@\n",
            "66  183071     Andrea              P    Garcia         andrea.garcia@aol.com      Mark Garcia      Nicole Garcia               Howard    1985-07-06   12:49:53 AM        32.08              52       4/18/2010                 Q2              H1             2010                 4                 April         Apr              18         Sunday       Sun                    7.28   54179         25%  213-91-6792  219-624-3708       Granger          St. Joseph       Granger    IN  46530  Midwest   apgarcia     eI!^kXR]Q^V+\n",
            "51  447813        Ann              Q   Coleman           ann.coleman@ibm.com   Harold Coleman       Tina Coleman               Walker    1989-05-11    9:46:13 PM        28.23              41      11/19/2013                 Q4              H2             2013                11              November         Nov              19        Tuesday       Tue                    3.69  130014         12%  027-92-0557  319-994-4179       Hancock       Pottawattamie       Hancock    IA  51536  Midwest  aqcoleman        g2]GlvlL5\n",
            "25  477253       Anne              L   Russell          anne.russell@ibm.com    Jimmy Russell  Stephanie Russell           Richardson    1989-07-29    2:57:12 AM        28.02              60      11/24/2013                 Q4              H2             2013                11              November         Nov              24         Sunday       Sun                    3.68  103160         29%  456-99-5619  605-635-1306     Stockholm               Grant     Stockholm    SD  57264  Midwest  alrussell     c8Nk&Y^~Vz!2\n",
            "4   193819   Benjamin              R   Russell  benjamin.russell@charter.net  Gregory Russell  Elizabeth Russell               Nelson    1977-04-17    5:41:11 PM        40.31              58       7/25/2013                 Q3              H2             2013                 7                  July         Jul              25       Thursday       Thu                    4.01  117642         13%  121-98-7248  262-404-2252       Fremont             Waupaca       Fremont    WI  54940  Midwest  brrussell   Rd<Y8cp!@R;*%F\n",
            "..     ...        ...            ...       ...                           ...              ...                ...                  ...           ...           ...          ...             ...             ...                ...             ...              ...               ...                   ...         ...             ...            ...       ...                     ...     ...         ...          ...           ...           ...                 ...           ...   ...    ...      ...        ...              ...\n",
            "49  879753     Pamela              X    Wright         pamela.wright@aol.com     Terry Wright       Debra Wright             Williams    1996-04-14    3:43:43 AM        21.30              47        06-09-17                 Q2              H1             2017                 6                  June         Jun               9         Friday       Fri                    0.13  149262          9%  459-99-9201  307-329-8832        Banner            Sheridan        Banner    WY  82832     West   pxwright   3a*&[Y^pV\\0!rU\n",
            "94  489424    Phillip              F     White       phillip.white@gmail.com     Harold White      Frances White               Carter    1978-03-04   11:45:07 PM        39.43              82        01-05-16                  1              H1             2016                 1               January         Jan               5        Tuesday       Tue                    1.56  181774          7%  447-27-9469  503-668-6592      Mapleton                Lane      Mapleton    OR  97453     West    pfwhite   8<Mc.5]eu.*C8.\n",
            "93  158666    Rebecca              A   Stewart     rebecca.stewart@gmail.com    Roger Stewart      Carol Stewart                  Cox    2061-08-11   11:08:01 PM        56.00              55        04-10-83                 Q2              H1             1983                 4                 April         Apr              10         Sunday       Sun                   34.32  160043          9%  202-84-8294  209-233-7631  Independence                Inyo  Independence    CA  93526     West  rastewart   7ONuh3Zi^z#32r\n",
            "27  683826      Roger              L   Roberts       roger.roberts@gmail.com  Antonio Roberts  Katherine Roberts               Brooks    1969-07-07    3:46:56 PM        48.09              77       1/29/2009                  1              H1             2009                 1               January         Jan              29       Thursday       Thu                    8.50  129625         12%  120-98-6493  206-497-3141  Mount Vernon              Skagit  Mount Vernon    WA  98273     West  rlroberts  41:C_0ik|Jb0iTO\n",
            "98  392491    Theresa              R    Murphy      theresa.murphy@gmail.com    George Murphy  Jacqueline Murphy             Peterson    1987-12-30    5:56:10 AM        29.60              57        08-03-10                 Q3              H2             2010                 8                August         Aug               3        Tuesday       Tue                    6.99   51015         11%  249-99-8801  907-356-1555      Mc Grath  Yukon-Koyukuk (CA)      Mc Grath    AK  99627     West   trmurphy        V]PGw>4h9\n",
            "\n",
            "[100 rows x 35 columns]\n"
          ],
          "name": "stdout"
        }
      ]
    },
    {
      "cell_type": "code",
      "metadata": {
        "id": "vkc2eLYuemOF",
        "colab_type": "code",
        "colab": {
          "base_uri": "https://localhost:8080/",
          "height": 237
        },
        "outputId": "e086dbff-9680-4569-96c8-5c5fd10717de"
      },
      "source": [
        "#Step 9 : Check only the datatypes\n",
        "print(empdata.dtypes)\n",
        "#empdata['Gender'].dtypes "
      ],
      "execution_count": null,
      "outputs": [
        {
          "output_type": "stream",
          "text": [
            "Emp ID             int64\n",
            "Name Prefix       object\n",
            "First Name        object\n",
            "Middle Initial    object\n",
            "Last Name         object\n",
            "                   ...  \n",
            "State             object\n",
            "Zip                int64\n",
            "Region            object\n",
            "User Name         object\n",
            "Password          object\n",
            "Length: 37, dtype: object\n"
          ],
          "name": "stdout"
        }
      ]
    },
    {
      "cell_type": "code",
      "metadata": {
        "id": "RIAPcDAPh5YA",
        "colab_type": "code",
        "colab": {
          "base_uri": "https://localhost:8080/",
          "height": 35
        },
        "outputId": "9003c5d3-0c23-463b-d21d-5dd4e7bbd9ca"
      },
      "source": [
        "#Step 10: Distinct or Unique values\n",
        "empdata['Gender'].unique()"
      ],
      "execution_count": null,
      "outputs": [
        {
          "output_type": "execute_result",
          "data": {
            "text/plain": [
              "array(['F', 'M'], dtype=object)"
            ]
          },
          "metadata": {
            "tags": []
          },
          "execution_count": 37
        }
      ]
    },
    {
      "cell_type": "code",
      "metadata": {
        "id": "6fAXzD-yhniH",
        "colab_type": "code",
        "colab": {
          "base_uri": "https://localhost:8080/",
          "height": 294
        },
        "outputId": "9a81aab6-2bd8-412a-c500-25a149ac44f5"
      },
      "source": [
        "#Step 11: Sort the values\n",
        "empdata.sort_values(['Region','First Name'],ascending=[True,True],inplace=True)\n",
        "print(empdata)"
      ],
      "execution_count": null,
      "outputs": [
        {
          "output_type": "stream",
          "text": [
            "    Emp ID Name Prefix First Name Middle Initial Last Name Gender                        E-mail    Father's Name      Mother's Name Mother's Maiden Name Date of Birth Time of Birth  Age in Yrs.  Weight in Kgs. Date of Joining Quarter of Joining Half of Joining  Year of Joining  Month of Joining Month Name of Joining Short Month  Day of Joining DOW of Joining Short DOW  Age in Company (Years)  Salary Last % Hike          SSN    Phone No.     Place Name              County          City State    Zip   Region  User Name         Password\n",
            "36  218791         Mr.      Aaron              N     Price      M            aaron.price@bp.com    Michael Price        Diana Price               Torres      02-10-69    3:42:13 AM        48.49              56        07-03-97                 Q3              H2             1997                 7                  July         Jul               3       Thursday       Thu                   20.08   54402          0%  491-29-5152  219-287-8926       Eckerty            Crawford       Eckerty    IN  47116  Midwest    anprice      uKxgV4uO&k@\n",
            "66  183071        Drs.     Andrea              P    Garcia      F         andrea.garcia@aol.com      Mark Garcia      Nicole Garcia               Howard      07-06-85   12:49:53 AM        32.08              52       4/18/2010                 Q2              H1             2010                 4                 April         Apr              18         Sunday       Sun                    7.28   54179         25%  213-91-6792  219-624-3708       Granger          St. Joseph       Granger    IN  46530  Midwest   apgarcia     eI!^kXR]Q^V+\n",
            "51  447813        Mrs.        Ann              Q   Coleman      F           ann.coleman@ibm.com   Harold Coleman       Tina Coleman               Walker      05-11-89    9:46:13 PM        28.23              41      11/19/2013                 Q4              H2             2013                11              November         Nov              19        Tuesday       Tue                    3.69  130014         12%  027-92-0557  319-994-4179       Hancock       Pottawattamie       Hancock    IA  51536  Midwest  aqcoleman        g2]GlvlL5\n",
            "25  477253        Mrs.       Anne              L   Russell      F          anne.russell@ibm.com    Jimmy Russell  Stephanie Russell           Richardson     7/29/1989    2:57:12 AM        28.02              60      11/24/2013                 Q4              H2             2013                11              November         Nov              24         Sunday       Sun                    3.68  103160         29%  456-99-5619  605-635-1306     Stockholm               Grant     Stockholm    SD  57264  Midwest  alrussell     c8Nk&Y^~Vz!2\n",
            "4   193819         Mr.   Benjamin              R   Russell      M  benjamin.russell@charter.net  Gregory Russell  Elizabeth Russell               Nelson     4/17/1977    5:41:11 PM        40.31              58       7/25/2013                 Q3              H2             2013                 7                  July         Jul              25       Thursday       Thu                    4.01  117642         13%  121-98-7248  262-404-2252       Fremont             Waupaca       Fremont    WI  54940  Midwest  brrussell   Rd<Y8cp!@R;*%F\n",
            "..     ...         ...        ...            ...       ...    ...                           ...              ...                ...                  ...           ...           ...          ...             ...             ...                ...             ...              ...               ...                   ...         ...             ...            ...       ...                     ...     ...         ...          ...           ...           ...                 ...           ...   ...    ...      ...        ...              ...\n",
            "49  879753        Mrs.     Pamela              X    Wright      F         pamela.wright@aol.com     Terry Wright       Debra Wright             Williams     4/14/1996    3:43:43 AM        21.30              47        06-09-17                 Q2              H1             2017                 6                  June         Jun               9         Friday       Fri                    0.13  149262          9%  459-99-9201  307-329-8832        Banner            Sheridan        Banner    WY  82832     West   pxwright   3a*&[Y^pV\\0!rU\n",
            "94  489424         Dr.    Phillip              F     White      M       phillip.white@gmail.com     Harold White      Frances White               Carter      03-04-78   11:45:07 PM        39.43              82        01-05-16                 Q1              H1             2016                 1               January         Jan               5        Tuesday       Tue                    1.56  181774          7%  447-27-9469  503-668-6592      Mapleton                Lane      Mapleton    OR  97453     West    pfwhite   8<Mc.5]eu.*C8.\n",
            "93  158666         Ms.    Rebecca              A   Stewart      F     rebecca.stewart@gmail.com    Roger Stewart      Carol Stewart                  Cox      08-11-61   11:08:01 PM        56.00              55        04-10-83                 Q2              H1             1983                 4                 April         Apr              10         Sunday       Sun                   34.32  160043          9%  202-84-8294  209-233-7631  Independence                Inyo  Independence    CA  93526     West  rastewart   7ONuh3Zi^z#32r\n",
            "27  683826         Mr.      Roger              L   Roberts      M       roger.roberts@gmail.com  Antonio Roberts  Katherine Roberts               Brooks      07-07-69    3:46:56 PM        48.09              77       1/29/2009                 Q1              H1             2009                 1               January         Jan              29       Thursday       Thu                    8.50  129625         12%  120-98-6493  206-497-3141  Mount Vernon              Skagit  Mount Vernon    WA  98273     West  rlroberts  41:C_0ik|Jb0iTO\n",
            "98  392491        Mrs.    Theresa              R    Murphy      F      theresa.murphy@gmail.com    George Murphy  Jacqueline Murphy             Peterson    12/30/1987    5:56:10 AM        29.60              57        08-03-10                 Q3              H2             2010                 8                August         Aug               3        Tuesday       Tue                    6.99   51015         11%  249-99-8801  907-356-1555      Mc Grath  Yukon-Koyukuk (CA)      Mc Grath    AK  99627     West   trmurphy        V]PGw>4h9\n",
            "\n",
            "[100 rows x 37 columns]\n"
          ],
          "name": "stdout"
        }
      ]
    },
    {
      "cell_type": "code",
      "metadata": {
        "id": "NEr0oxsdijlS",
        "colab_type": "code",
        "colab": {}
      },
      "source": [
        ""
      ],
      "execution_count": null,
      "outputs": []
    },
    {
      "cell_type": "code",
      "metadata": {
        "id": "7vAHjtIKiREh",
        "colab_type": "code",
        "colab": {
          "base_uri": "https://localhost:8080/",
          "height": 294
        },
        "outputId": "33e89936-8fe6-4921-a71c-5addbb662a54"
      },
      "source": [
        "#Step 12: defining the date format\n",
        "empdata['Date of Birth'] = pd.to_datetime(empdata['Date of Birth'])\n",
        "print(empdata)"
      ],
      "execution_count": null,
      "outputs": [
        {
          "output_type": "stream",
          "text": [
            "    Emp ID Name Prefix First Name Middle Initial Last Name Gender                        E-mail    Father's Name      Mother's Name Mother's Maiden Name Date of Birth Time of Birth  Age in Yrs.  Weight in Kgs. Date of Joining Quarter of Joining Half of Joining  Year of Joining  Month of Joining Month Name of Joining Short Month  Day of Joining DOW of Joining Short DOW  Age in Company (Years)  Salary Last % Hike          SSN    Phone No.     Place Name              County          City State    Zip   Region  User Name         Password\n",
            "36  218791         Mr.      Aaron              N     Price      M            aaron.price@bp.com    Michael Price        Diana Price               Torres    1969-02-10    3:42:13 AM        48.49              56        07-03-97                 Q3              H2             1997                 7                  July         Jul               3       Thursday       Thu                   20.08   54402          0%  491-29-5152  219-287-8926       Eckerty            Crawford       Eckerty    IN  47116  Midwest    anprice      uKxgV4uO&k@\n",
            "66  183071        Drs.     Andrea              P    Garcia      F         andrea.garcia@aol.com      Mark Garcia      Nicole Garcia               Howard    1985-07-06   12:49:53 AM        32.08              52       4/18/2010                 Q2              H1             2010                 4                 April         Apr              18         Sunday       Sun                    7.28   54179         25%  213-91-6792  219-624-3708       Granger          St. Joseph       Granger    IN  46530  Midwest   apgarcia     eI!^kXR]Q^V+\n",
            "51  447813        Mrs.        Ann              Q   Coleman      F           ann.coleman@ibm.com   Harold Coleman       Tina Coleman               Walker    1989-05-11    9:46:13 PM        28.23              41      11/19/2013                 Q4              H2             2013                11              November         Nov              19        Tuesday       Tue                    3.69  130014         12%  027-92-0557  319-994-4179       Hancock       Pottawattamie       Hancock    IA  51536  Midwest  aqcoleman        g2]GlvlL5\n",
            "25  477253        Mrs.       Anne              L   Russell      F          anne.russell@ibm.com    Jimmy Russell  Stephanie Russell           Richardson    1989-07-29    2:57:12 AM        28.02              60      11/24/2013                 Q4              H2             2013                11              November         Nov              24         Sunday       Sun                    3.68  103160         29%  456-99-5619  605-635-1306     Stockholm               Grant     Stockholm    SD  57264  Midwest  alrussell     c8Nk&Y^~Vz!2\n",
            "4   193819         Mr.   Benjamin              R   Russell      M  benjamin.russell@charter.net  Gregory Russell  Elizabeth Russell               Nelson    1977-04-17    5:41:11 PM        40.31              58       7/25/2013                 Q3              H2             2013                 7                  July         Jul              25       Thursday       Thu                    4.01  117642         13%  121-98-7248  262-404-2252       Fremont             Waupaca       Fremont    WI  54940  Midwest  brrussell   Rd<Y8cp!@R;*%F\n",
            "..     ...         ...        ...            ...       ...    ...                           ...              ...                ...                  ...           ...           ...          ...             ...             ...                ...             ...              ...               ...                   ...         ...             ...            ...       ...                     ...     ...         ...          ...           ...           ...                 ...           ...   ...    ...      ...        ...              ...\n",
            "49  879753        Mrs.     Pamela              X    Wright      F         pamela.wright@aol.com     Terry Wright       Debra Wright             Williams    1996-04-14    3:43:43 AM        21.30              47        06-09-17                 Q2              H1             2017                 6                  June         Jun               9         Friday       Fri                    0.13  149262          9%  459-99-9201  307-329-8832        Banner            Sheridan        Banner    WY  82832     West   pxwright   3a*&[Y^pV\\0!rU\n",
            "94  489424         Dr.    Phillip              F     White      M       phillip.white@gmail.com     Harold White      Frances White               Carter    1978-03-04   11:45:07 PM        39.43              82        01-05-16                 Q1              H1             2016                 1               January         Jan               5        Tuesday       Tue                    1.56  181774          7%  447-27-9469  503-668-6592      Mapleton                Lane      Mapleton    OR  97453     West    pfwhite   8<Mc.5]eu.*C8.\n",
            "93  158666         Ms.    Rebecca              A   Stewart      F     rebecca.stewart@gmail.com    Roger Stewart      Carol Stewart                  Cox    2061-08-11   11:08:01 PM        56.00              55        04-10-83                 Q2              H1             1983                 4                 April         Apr              10         Sunday       Sun                   34.32  160043          9%  202-84-8294  209-233-7631  Independence                Inyo  Independence    CA  93526     West  rastewart   7ONuh3Zi^z#32r\n",
            "27  683826         Mr.      Roger              L   Roberts      M       roger.roberts@gmail.com  Antonio Roberts  Katherine Roberts               Brooks    1969-07-07    3:46:56 PM        48.09              77       1/29/2009                 Q1              H1             2009                 1               January         Jan              29       Thursday       Thu                    8.50  129625         12%  120-98-6493  206-497-3141  Mount Vernon              Skagit  Mount Vernon    WA  98273     West  rlroberts  41:C_0ik|Jb0iTO\n",
            "98  392491        Mrs.    Theresa              R    Murphy      F      theresa.murphy@gmail.com    George Murphy  Jacqueline Murphy             Peterson    1987-12-30    5:56:10 AM        29.60              57        08-03-10                 Q3              H2             2010                 8                August         Aug               3        Tuesday       Tue                    6.99   51015         11%  249-99-8801  907-356-1555      Mc Grath  Yukon-Koyukuk (CA)      Mc Grath    AK  99627     West   trmurphy        V]PGw>4h9\n",
            "\n",
            "[100 rows x 37 columns]\n"
          ],
          "name": "stdout"
        }
      ]
    },
    {
      "cell_type": "code",
      "metadata": {
        "id": "EbqVtgtlikQ4",
        "colab_type": "code",
        "colab": {
          "base_uri": "https://localhost:8080/",
          "height": 35
        },
        "outputId": "24d3b090-be2f-4583-9dcb-eb01cc7ca85a"
      },
      "source": [
        "#Step 13: replacing a Quarter to Number values\n",
        "#empdata['Quarter of Joining'].replace(to_replace='Q1',value='1',inplace=True)\n",
        "print(empdata['Quarter of Joining'].replace(to_replace='Q1',value='1',inplace=True))\n",
        "#empdata['Quarter of Joining'].replace(to_replace='Q2',value='2',inplace=True)\n",
        "#empdata['Quarter of Joining'].replace(to_replace='Q3',value='3',inplace=True)\n",
        "#empdata['Quarter of Joining'].replace(to_replace='Q4',value='4',inplace=True)"
      ],
      "execution_count": null,
      "outputs": [
        {
          "output_type": "stream",
          "text": [
            "None\n"
          ],
          "name": "stdout"
        }
      ]
    },
    {
      "cell_type": "code",
      "metadata": {
        "id": "vvBYZgNVi36Z",
        "colab_type": "code",
        "colab": {
          "base_uri": "https://localhost:8080/",
          "height": 473
        },
        "outputId": "3f434a62-8177-4133-95b2-f5919ab2b945"
      },
      "source": [
        "#Step 14: Using GroupBy\n",
        "empdata.groupby('Weight in Kgs.').count()\n",
        "empdata.groupby(['Gender','Salary']).sum()\u000b\n"
      ],
      "execution_count": null,
      "outputs": [
        {
          "output_type": "execute_result",
          "data": {
            "text/html": [
              "<div>\n",
              "<style scoped>\n",
              "    .dataframe tbody tr th:only-of-type {\n",
              "        vertical-align: middle;\n",
              "    }\n",
              "\n",
              "    .dataframe tbody tr th {\n",
              "        vertical-align: top;\n",
              "    }\n",
              "\n",
              "    .dataframe thead th {\n",
              "        text-align: right;\n",
              "    }\n",
              "</style>\n",
              "<table border=\"1\" class=\"dataframe\">\n",
              "  <thead>\n",
              "    <tr style=\"text-align: right;\">\n",
              "      <th></th>\n",
              "      <th></th>\n",
              "      <th>Emp ID</th>\n",
              "      <th>Age in Yrs.</th>\n",
              "      <th>Weight in Kgs.</th>\n",
              "      <th>Year of Joining</th>\n",
              "      <th>Month of Joining</th>\n",
              "      <th>Day of Joining</th>\n",
              "      <th>Age in Company (Years)</th>\n",
              "      <th>Zip</th>\n",
              "    </tr>\n",
              "    <tr>\n",
              "      <th>Gender</th>\n",
              "      <th>Salary</th>\n",
              "      <th></th>\n",
              "      <th></th>\n",
              "      <th></th>\n",
              "      <th></th>\n",
              "      <th></th>\n",
              "      <th></th>\n",
              "      <th></th>\n",
              "      <th></th>\n",
              "    </tr>\n",
              "  </thead>\n",
              "  <tbody>\n",
              "    <tr>\n",
              "      <th rowspan=\"5\" valign=\"top\">F</th>\n",
              "      <th>42005</th>\n",
              "      <td>560455</td>\n",
              "      <td>59.42</td>\n",
              "      <td>53</td>\n",
              "      <td>2001</td>\n",
              "      <td>7</td>\n",
              "      <td>3</td>\n",
              "      <td>16.08</td>\n",
              "      <td>34771</td>\n",
              "    </tr>\n",
              "    <tr>\n",
              "      <th>43010</th>\n",
              "      <td>162402</td>\n",
              "      <td>29.73</td>\n",
              "      <td>60</td>\n",
              "      <td>2014</td>\n",
              "      <td>2</td>\n",
              "      <td>17</td>\n",
              "      <td>3.44</td>\n",
              "      <td>72632</td>\n",
              "    </tr>\n",
              "    <tr>\n",
              "      <th>43867</th>\n",
              "      <td>951225</td>\n",
              "      <td>25.10</td>\n",
              "      <td>56</td>\n",
              "      <td>2016</td>\n",
              "      <td>8</td>\n",
              "      <td>26</td>\n",
              "      <td>0.92</td>\n",
              "      <td>81045</td>\n",
              "    </tr>\n",
              "    <tr>\n",
              "      <th>46945</th>\n",
              "      <td>687017</td>\n",
              "      <td>56.53</td>\n",
              "      <td>42</td>\n",
              "      <td>2010</td>\n",
              "      <td>8</td>\n",
              "      <td>20</td>\n",
              "      <td>6.94</td>\n",
              "      <td>59934</td>\n",
              "    </tr>\n",
              "    <tr>\n",
              "      <th>48736</th>\n",
              "      <td>325319</td>\n",
              "      <td>41.19</td>\n",
              "      <td>60</td>\n",
              "      <td>2014</td>\n",
              "      <td>11</td>\n",
              "      <td>5</td>\n",
              "      <td>2.73</td>\n",
              "      <td>60189</td>\n",
              "    </tr>\n",
              "    <tr>\n",
              "      <th>...</th>\n",
              "      <th>...</th>\n",
              "      <td>...</td>\n",
              "      <td>...</td>\n",
              "      <td>...</td>\n",
              "      <td>...</td>\n",
              "      <td>...</td>\n",
              "      <td>...</td>\n",
              "      <td>...</td>\n",
              "      <td>...</td>\n",
              "    </tr>\n",
              "    <tr>\n",
              "      <th rowspan=\"5\" valign=\"top\">M</th>\n",
              "      <th>181774</th>\n",
              "      <td>489424</td>\n",
              "      <td>39.43</td>\n",
              "      <td>82</td>\n",
              "      <td>2016</td>\n",
              "      <td>1</td>\n",
              "      <td>5</td>\n",
              "      <td>1.56</td>\n",
              "      <td>97453</td>\n",
              "    </tr>\n",
              "    <tr>\n",
              "      <th>181793</th>\n",
              "      <td>883936</td>\n",
              "      <td>31.29</td>\n",
              "      <td>61</td>\n",
              "      <td>2009</td>\n",
              "      <td>9</td>\n",
              "      <td>10</td>\n",
              "      <td>7.88</td>\n",
              "      <td>81418</td>\n",
              "    </tr>\n",
              "    <tr>\n",
              "      <th>184896</th>\n",
              "      <td>912990</td>\n",
              "      <td>47.23</td>\n",
              "      <td>68</td>\n",
              "      <td>2002</td>\n",
              "      <td>9</td>\n",
              "      <td>2</td>\n",
              "      <td>14.91</td>\n",
              "      <td>62074</td>\n",
              "    </tr>\n",
              "    <tr>\n",
              "      <th>186280</th>\n",
              "      <td>265813</td>\n",
              "      <td>32.58</td>\n",
              "      <td>50</td>\n",
              "      <td>2007</td>\n",
              "      <td>7</td>\n",
              "      <td>29</td>\n",
              "      <td>10.01</td>\n",
              "      <td>67856</td>\n",
              "    </tr>\n",
              "    <tr>\n",
              "      <th>190765</th>\n",
              "      <td>917395</td>\n",
              "      <td>57.37</td>\n",
              "      <td>62</td>\n",
              "      <td>1997</td>\n",
              "      <td>11</td>\n",
              "      <td>8</td>\n",
              "      <td>19.73</td>\n",
              "      <td>86445</td>\n",
              "    </tr>\n",
              "  </tbody>\n",
              "</table>\n",
              "<p>100 rows × 8 columns</p>\n",
              "</div>"
            ],
            "text/plain": [
              "               Emp ID  Age in Yrs.  Weight in Kgs.  Year of Joining  Month of Joining  Day of Joining  Age in Company (Years)    Zip\n",
              "Gender Salary                                                                                                                       \n",
              "F      42005   560455        59.42              53             2001                 7               3                   16.08  34771\n",
              "       43010   162402        29.73              60             2014                 2              17                    3.44  72632\n",
              "       43867   951225        25.10              56             2016                 8              26                    0.92  81045\n",
              "       46945   687017        56.53              42             2010                 8              20                    6.94  59934\n",
              "       48736   325319        41.19              60             2014                11               5                    2.73  60189\n",
              "...               ...          ...             ...              ...               ...             ...                     ...    ...\n",
              "M      181774  489424        39.43              82             2016                 1               5                    1.56  97453\n",
              "       181793  883936        31.29              61             2009                 9              10                    7.88  81418\n",
              "       184896  912990        47.23              68             2002                 9               2                   14.91  62074\n",
              "       186280  265813        32.58              50             2007                 7              29                   10.01  67856\n",
              "       190765  917395        57.37              62             1997                11               8                   19.73  86445\n",
              "\n",
              "[100 rows x 8 columns]"
            ]
          },
          "metadata": {
            "tags": []
          },
          "execution_count": 17
        }
      ]
    },
    {
      "cell_type": "code",
      "metadata": {
        "id": "73nFocbai8Nb",
        "colab_type": "code",
        "colab": {
          "base_uri": "https://localhost:8080/",
          "height": 35
        },
        "outputId": "bcdafc65-6a28-4318-c787-c3d1f011f27c"
      },
      "source": [
        "#Step 15: Summarize Functions\n",
        "empdata['Salary'].min() \n",
        "empdata['Salary'].max() \n",
        "empdata['Salary'].sum()\n",
        "empdata['Salary'].count() \n",
        "empdata['Salary'].mean()\n",
        "empdata['Salary'].std()\n"
      ],
      "execution_count": null,
      "outputs": [
        {
          "output_type": "execute_result",
          "data": {
            "text/plain": [
              "46185.278194254795"
            ]
          },
          "metadata": {
            "tags": []
          },
          "execution_count": 8
        }
      ]
    }
  ]
}