{
  "nbformat": 4,
  "nbformat_minor": 0,
  "metadata": {
    "colab": {
      "name": "Flight EDA.ipynb",
      "provenance": [],
      "collapsed_sections": [],
      "include_colab_link": true
    },
    "kernelspec": {
      "name": "python3",
      "display_name": "Python 3"
    }
  },
  "cells": [
    {
      "cell_type": "markdown",
      "metadata": {
        "id": "view-in-github",
        "colab_type": "text"
      },
      "source": [
        "<a href=\"https://colab.research.google.com/github/Harika822/projects/blob/master/Flight_EDA.ipynb\" target=\"_parent\"><img src=\"https://colab.research.google.com/assets/colab-badge.svg\" alt=\"Open In Colab\"/></a>"
      ]
    },
    {
      "cell_type": "markdown",
      "metadata": {
        "id": "BXH4wYIQU6fy",
        "colab_type": "text"
      },
      "source": [
        "This example explore with Flight Data appling with different Categorical techiques"
      ]
    },
    {
      "cell_type": "code",
      "metadata": {
        "id": "HQjNmCfKUnPW",
        "colab_type": "code",
        "colab": {}
      },
      "source": [
        "import pandas as pd\n",
        "import copy\n",
        "import matplotlib.pyplot as plt\n",
        "from sklearn.preprocessing import LabelEncoder\n",
        "from sklearn.preprocessing import LabelBinarizer"
      ],
      "execution_count": null,
      "outputs": []
    },
    {
      "cell_type": "code",
      "metadata": {
        "id": "CZsmCJH9Ul4f",
        "colab_type": "code",
        "colab": {
          "base_uri": "https://localhost:8080/",
          "height": 206
        },
        "outputId": "2760cdc7-0019-48bf-e740-e4ec02a8dee9"
      },
      "source": [
        "flights =pd.read_csv('https://raw.githubusercontent.com/ismayc/pnwflights14/master/data/flights.csv')\n",
        "flights.head(5)"
      ],
      "execution_count": null,
      "outputs": [
        {
          "output_type": "execute_result",
          "data": {
            "text/html": [
              "<div>\n",
              "<style scoped>\n",
              "    .dataframe tbody tr th:only-of-type {\n",
              "        vertical-align: middle;\n",
              "    }\n",
              "\n",
              "    .dataframe tbody tr th {\n",
              "        vertical-align: top;\n",
              "    }\n",
              "\n",
              "    .dataframe thead th {\n",
              "        text-align: right;\n",
              "    }\n",
              "</style>\n",
              "<table border=\"1\" class=\"dataframe\">\n",
              "  <thead>\n",
              "    <tr style=\"text-align: right;\">\n",
              "      <th></th>\n",
              "      <th>year</th>\n",
              "      <th>month</th>\n",
              "      <th>day</th>\n",
              "      <th>dep_time</th>\n",
              "      <th>dep_delay</th>\n",
              "      <th>arr_time</th>\n",
              "      <th>arr_delay</th>\n",
              "      <th>carrier</th>\n",
              "      <th>tailnum</th>\n",
              "      <th>flight</th>\n",
              "      <th>origin</th>\n",
              "      <th>dest</th>\n",
              "      <th>air_time</th>\n",
              "      <th>distance</th>\n",
              "      <th>hour</th>\n",
              "      <th>minute</th>\n",
              "    </tr>\n",
              "  </thead>\n",
              "  <tbody>\n",
              "    <tr>\n",
              "      <th>0</th>\n",
              "      <td>2014</td>\n",
              "      <td>1</td>\n",
              "      <td>1</td>\n",
              "      <td>1.0</td>\n",
              "      <td>96.0</td>\n",
              "      <td>235.0</td>\n",
              "      <td>70.0</td>\n",
              "      <td>AS</td>\n",
              "      <td>N508AS</td>\n",
              "      <td>145</td>\n",
              "      <td>PDX</td>\n",
              "      <td>ANC</td>\n",
              "      <td>194.0</td>\n",
              "      <td>1542</td>\n",
              "      <td>0.0</td>\n",
              "      <td>1.0</td>\n",
              "    </tr>\n",
              "    <tr>\n",
              "      <th>1</th>\n",
              "      <td>2014</td>\n",
              "      <td>1</td>\n",
              "      <td>1</td>\n",
              "      <td>4.0</td>\n",
              "      <td>-6.0</td>\n",
              "      <td>738.0</td>\n",
              "      <td>-23.0</td>\n",
              "      <td>US</td>\n",
              "      <td>N195UW</td>\n",
              "      <td>1830</td>\n",
              "      <td>SEA</td>\n",
              "      <td>CLT</td>\n",
              "      <td>252.0</td>\n",
              "      <td>2279</td>\n",
              "      <td>0.0</td>\n",
              "      <td>4.0</td>\n",
              "    </tr>\n",
              "    <tr>\n",
              "      <th>2</th>\n",
              "      <td>2014</td>\n",
              "      <td>1</td>\n",
              "      <td>1</td>\n",
              "      <td>8.0</td>\n",
              "      <td>13.0</td>\n",
              "      <td>548.0</td>\n",
              "      <td>-4.0</td>\n",
              "      <td>UA</td>\n",
              "      <td>N37422</td>\n",
              "      <td>1609</td>\n",
              "      <td>PDX</td>\n",
              "      <td>IAH</td>\n",
              "      <td>201.0</td>\n",
              "      <td>1825</td>\n",
              "      <td>0.0</td>\n",
              "      <td>8.0</td>\n",
              "    </tr>\n",
              "    <tr>\n",
              "      <th>3</th>\n",
              "      <td>2014</td>\n",
              "      <td>1</td>\n",
              "      <td>1</td>\n",
              "      <td>28.0</td>\n",
              "      <td>-2.0</td>\n",
              "      <td>800.0</td>\n",
              "      <td>-23.0</td>\n",
              "      <td>US</td>\n",
              "      <td>N547UW</td>\n",
              "      <td>466</td>\n",
              "      <td>PDX</td>\n",
              "      <td>CLT</td>\n",
              "      <td>251.0</td>\n",
              "      <td>2282</td>\n",
              "      <td>0.0</td>\n",
              "      <td>28.0</td>\n",
              "    </tr>\n",
              "    <tr>\n",
              "      <th>4</th>\n",
              "      <td>2014</td>\n",
              "      <td>1</td>\n",
              "      <td>1</td>\n",
              "      <td>34.0</td>\n",
              "      <td>44.0</td>\n",
              "      <td>325.0</td>\n",
              "      <td>43.0</td>\n",
              "      <td>AS</td>\n",
              "      <td>N762AS</td>\n",
              "      <td>121</td>\n",
              "      <td>SEA</td>\n",
              "      <td>ANC</td>\n",
              "      <td>201.0</td>\n",
              "      <td>1448</td>\n",
              "      <td>0.0</td>\n",
              "      <td>34.0</td>\n",
              "    </tr>\n",
              "  </tbody>\n",
              "</table>\n",
              "</div>"
            ],
            "text/plain": [
              "   year  month  day  dep_time  dep_delay  ...  dest  air_time distance hour  minute\n",
              "0  2014      1    1       1.0       96.0  ...   ANC     194.0     1542  0.0     1.0\n",
              "1  2014      1    1       4.0       -6.0  ...   CLT     252.0     2279  0.0     4.0\n",
              "2  2014      1    1       8.0       13.0  ...   IAH     201.0     1825  0.0     8.0\n",
              "3  2014      1    1      28.0       -2.0  ...   CLT     251.0     2282  0.0    28.0\n",
              "4  2014      1    1      34.0       44.0  ...   ANC     201.0     1448  0.0    34.0\n",
              "\n",
              "[5 rows x 16 columns]"
            ]
          },
          "metadata": {
            "tags": []
          },
          "execution_count": 4
        }
      ]
    },
    {
      "cell_type": "code",
      "metadata": {
        "id": "l8rSuGKRVlzx",
        "colab_type": "code",
        "colab": {
          "base_uri": "https://localhost:8080/",
          "height": 403
        },
        "outputId": "fff6abc1-28aa-4cb6-ba30-4fce665a362d"
      },
      "source": [
        "flights.info()"
      ],
      "execution_count": null,
      "outputs": [
        {
          "output_type": "stream",
          "text": [
            "<class 'pandas.core.frame.DataFrame'>\n",
            "RangeIndex: 162049 entries, 0 to 162048\n",
            "Data columns (total 16 columns):\n",
            "year         162049 non-null int64\n",
            "month        162049 non-null int64\n",
            "day          162049 non-null int64\n",
            "dep_time     161192 non-null float64\n",
            "dep_delay    161192 non-null float64\n",
            "arr_time     161061 non-null float64\n",
            "arr_delay    160748 non-null float64\n",
            "carrier      162049 non-null object\n",
            "tailnum      161801 non-null object\n",
            "flight       162049 non-null int64\n",
            "origin       162049 non-null object\n",
            "dest         162049 non-null object\n",
            "air_time     160748 non-null float64\n",
            "distance     162049 non-null int64\n",
            "hour         161192 non-null float64\n",
            "minute       161192 non-null float64\n",
            "dtypes: float64(7), int64(5), object(4)\n",
            "memory usage: 19.8+ MB\n"
          ],
          "name": "stdout"
        }
      ]
    },
    {
      "cell_type": "markdown",
      "metadata": {
        "id": "fYCG5bMfWBeo",
        "colab_type": "text"
      },
      "source": [
        "To work with Categorical Variables, Create a new dataframe and filter out. using Copy Library we can copy the Dataframe .copy() function. Any changes made in new dataframe not reflect in the original one"
      ]
    },
    {
      "cell_type": "code",
      "metadata": {
        "id": "yrOZ4movVr5Y",
        "colab_type": "code",
        "colab": {
          "base_uri": "https://localhost:8080/",
          "height": 206
        },
        "outputId": "48de262a-09ac-4fe6-f7bc-bec725f45df7"
      },
      "source": [
        "#Here we create a new dataframe and bring all the columns with Object data type\n",
        "Category_flights =flights.select_dtypes(include=['object']).copy()\n",
        "Category_flights.head()"
      ],
      "execution_count": null,
      "outputs": [
        {
          "output_type": "execute_result",
          "data": {
            "text/html": [
              "<div>\n",
              "<style scoped>\n",
              "    .dataframe tbody tr th:only-of-type {\n",
              "        vertical-align: middle;\n",
              "    }\n",
              "\n",
              "    .dataframe tbody tr th {\n",
              "        vertical-align: top;\n",
              "    }\n",
              "\n",
              "    .dataframe thead th {\n",
              "        text-align: right;\n",
              "    }\n",
              "</style>\n",
              "<table border=\"1\" class=\"dataframe\">\n",
              "  <thead>\n",
              "    <tr style=\"text-align: right;\">\n",
              "      <th></th>\n",
              "      <th>carrier</th>\n",
              "      <th>tailnum</th>\n",
              "      <th>origin</th>\n",
              "      <th>dest</th>\n",
              "    </tr>\n",
              "  </thead>\n",
              "  <tbody>\n",
              "    <tr>\n",
              "      <th>0</th>\n",
              "      <td>AS</td>\n",
              "      <td>N508AS</td>\n",
              "      <td>PDX</td>\n",
              "      <td>ANC</td>\n",
              "    </tr>\n",
              "    <tr>\n",
              "      <th>1</th>\n",
              "      <td>US</td>\n",
              "      <td>N195UW</td>\n",
              "      <td>SEA</td>\n",
              "      <td>CLT</td>\n",
              "    </tr>\n",
              "    <tr>\n",
              "      <th>2</th>\n",
              "      <td>UA</td>\n",
              "      <td>N37422</td>\n",
              "      <td>PDX</td>\n",
              "      <td>IAH</td>\n",
              "    </tr>\n",
              "    <tr>\n",
              "      <th>3</th>\n",
              "      <td>US</td>\n",
              "      <td>N547UW</td>\n",
              "      <td>PDX</td>\n",
              "      <td>CLT</td>\n",
              "    </tr>\n",
              "    <tr>\n",
              "      <th>4</th>\n",
              "      <td>AS</td>\n",
              "      <td>N762AS</td>\n",
              "      <td>SEA</td>\n",
              "      <td>ANC</td>\n",
              "    </tr>\n",
              "  </tbody>\n",
              "</table>\n",
              "</div>"
            ],
            "text/plain": [
              "  carrier tailnum origin dest\n",
              "0      AS  N508AS    PDX  ANC\n",
              "1      US  N195UW    SEA  CLT\n",
              "2      UA  N37422    PDX  IAH\n",
              "3      US  N547UW    PDX  CLT\n",
              "4      AS  N762AS    SEA  ANC"
            ]
          },
          "metadata": {
            "tags": []
          },
          "execution_count": 7
        }
      ]
    },
    {
      "cell_type": "code",
      "metadata": {
        "id": "TTtog7FIWlVO",
        "colab_type": "code",
        "colab": {
          "base_uri": "https://localhost:8080/",
          "height": 35
        },
        "outputId": "9b6afc0c-d9a1-4f42-b244-1a88de4c33cc"
      },
      "source": [
        "#Most common data pre-processing steps to check for null values in the dataset\n",
        "print(Category_flights.isnull().values.sum())"
      ],
      "execution_count": null,
      "outputs": [
        {
          "output_type": "stream",
          "text": [
            "248\n"
          ],
          "name": "stdout"
        }
      ]
    },
    {
      "cell_type": "code",
      "metadata": {
        "id": "4iNjnA32XA6j",
        "colab_type": "code",
        "colab": {
          "base_uri": "https://localhost:8080/",
          "height": 109
        },
        "outputId": "7c49f984-23fe-45ec-c4a9-93ac4d72b716"
      },
      "source": [
        "#Check he column wise distributio of null values\n",
        "print(Category_flights.isnull().sum())"
      ],
      "execution_count": null,
      "outputs": [
        {
          "output_type": "stream",
          "text": [
            "carrier      0\n",
            "tailnum    248\n",
            "origin       0\n",
            "dest         0\n",
            "dtype: int64\n"
          ],
          "name": "stdout"
        }
      ]
    },
    {
      "cell_type": "code",
      "metadata": {
        "id": "0zEKLbVqXHcM",
        "colab_type": "code",
        "colab": {}
      },
      "source": [
        "Category_flights=Category_flights.fillna(Category_flights['tailnum'].value_counts().index[0])"
      ],
      "execution_count": null,
      "outputs": []
    },
    {
      "cell_type": "code",
      "metadata": {
        "id": "VTl5rkVaYFDu",
        "colab_type": "code",
        "colab": {
          "base_uri": "https://localhost:8080/",
          "height": 35
        },
        "outputId": "9e74da5d-b9f0-4db6-b587-0900c3e6bbf2"
      },
      "source": [
        "print(Category_flights.isnull().values.sum())"
      ],
      "execution_count": null,
      "outputs": [
        {
          "output_type": "stream",
          "text": [
            "0\n"
          ],
          "name": "stdout"
        }
      ]
    },
    {
      "cell_type": "markdown",
      "metadata": {
        "id": "o6jNxAWZYNrC",
        "colab_type": "text"
      },
      "source": [
        "Working with EDA (Exploratory Data Analysis, Categorical Featurs is the frequency distribution of categories with in the feature. Using .value_counts() method its easy to view the values for each feature"
      ]
    },
    {
      "cell_type": "code",
      "metadata": {
        "id": "XH5yyPtvYb8E",
        "colab_type": "code",
        "colab": {
          "base_uri": "https://localhost:8080/",
          "height": 237
        },
        "outputId": "f4a078f4-9e93-48b9-f65d-691740850f6e"
      },
      "source": [
        "print(Category_flights['carrier'].value_counts())"
      ],
      "execution_count": null,
      "outputs": [
        {
          "output_type": "stream",
          "text": [
            "AS    62460\n",
            "WN    23355\n",
            "OO    18710\n",
            "DL    16716\n",
            "UA    16671\n",
            "AA     7586\n",
            "US     5946\n",
            "B6     3540\n",
            "VX     3272\n",
            "F9     2698\n",
            "HA     1095\n",
            "Name: carrier, dtype: int64\n"
          ],
          "name": "stdout"
        }
      ]
    },
    {
      "cell_type": "code",
      "metadata": {
        "id": "Ry1tqExBZAhw",
        "colab_type": "code",
        "colab": {
          "base_uri": "https://localhost:8080/",
          "height": 35
        },
        "outputId": "7283ec97-9564-4563-b11a-19dd65eef9d7"
      },
      "source": [
        "#To Know the count of distinct categories within the feature , use .count() method\n",
        "print(Category_flights['carrier'].value_counts().count())"
      ],
      "execution_count": null,
      "outputs": [
        {
          "output_type": "stream",
          "text": [
            "11\n"
          ],
          "name": "stdout"
        }
      ]
    },
    {
      "cell_type": "markdown",
      "metadata": {
        "id": "33VRU_ahbfU1",
        "colab_type": "text"
      },
      "source": [
        "Show Frequency Distribution of a Categorical Feature showing on Carrier Column"
      ]
    },
    {
      "cell_type": "code",
      "metadata": {
        "id": "IYmOBFKVZPcw",
        "colab_type": "code",
        "colab": {
          "base_uri": "https://localhost:8080/",
          "height": 265
        },
        "outputId": "d9c6571f-4130-4049-ac3d-4855fec66bb5"
      },
      "source": [
        "carrier_count = Category_flights['carrier'].value_counts()\n",
        "colors='rgbkymc'\n",
        "plt.bar(carrier_count.index,carrier_count.values,alpha=0.7,color=colors)\n",
        "plt.show()"
      ],
      "execution_count": null,
      "outputs": [
        {
          "output_type": "display_data",
          "data": {
            "image/png": "[encoded data removed]",
            "text/plain": [
              "<Figure size 432x288 with 1 Axes>"
            ]
          },
          "metadata": {
            "tags": []
          }
        }
      ]
    },
    {
      "cell_type": "markdown",
      "metadata": {
        "id": "zGJhd58YdJ5x",
        "colab_type": "text"
      },
      "source": [
        "Encoding Categorical Variables"
      ]
    },
    {
      "cell_type": "markdown",
      "metadata": {
        "id": "AxSW_cBfdrOu",
        "colab_type": "text"
      },
      "source": [
        "Its Good Approach to typecast categorical features to a Category dtype because the operations on columns much fsater than the object dtype. We can do the typecasting by using .astype() method on our columns"
      ]
    },
    {
      "cell_type": "code",
      "metadata": {
        "id": "Lu-6eWGge24H",
        "colab_type": "code",
        "colab": {
          "base_uri": "https://localhost:8080/",
          "height": 54
        },
        "outputId": "701af0b1-e0ff-44d1-e8a9-82dc3c14e75d"
      },
      "source": [
        "Category_flights['carrier'].unique()"
      ],
      "execution_count": null,
      "outputs": [
        {
          "output_type": "execute_result",
          "data": {
            "text/plain": [
              "array(['AS', 'US', 'UA', 'DL', 'AA', 'F9', 'VX', 'OO', 'WN', 'B6', 'HA'],\n",
              "      dtype=object)"
            ]
          },
          "metadata": {
            "tags": []
          },
          "execution_count": 31
        }
      ]
    },
    {
      "cell_type": "code",
      "metadata": {
        "id": "vrZbWp3jfAXD",
        "colab_type": "code",
        "colab": {
          "base_uri": "https://localhost:8080/",
          "height": 35
        },
        "outputId": "bb567d6d-da48-4e30-ec97-335848b9e998"
      },
      "source": [
        "Category_flights['origin'].unique()"
      ],
      "execution_count": null,
      "outputs": [
        {
          "output_type": "execute_result",
          "data": {
            "text/plain": [
              "array(['PDX', 'SEA'], dtype=object)"
            ]
          },
          "metadata": {
            "tags": []
          },
          "execution_count": 32
        }
      ]
    },
    {
      "cell_type": "markdown",
      "metadata": {
        "id": "HWVIaMUYf-gV",
        "colab_type": "text"
      },
      "source": [
        "Brining the columns to Category dtype will help to execute faster"
      ]
    },
    {
      "cell_type": "code",
      "metadata": {
        "id": "FHSdFvUzeb4X",
        "colab_type": "code",
        "colab": {
          "base_uri": "https://localhost:8080/",
          "height": 109
        },
        "outputId": "84f11eb5-9543-4d5f-f99c-31afcd149eca"
      },
      "source": [
        "#Create a New Dataframe as Category_flights_new and assign the columns to Category datatype\n",
        "#We Observed the Carrier and Origin columns are Categorical values\n",
        "Category_flights_new = Category_flights.copy()\n",
        "Category_flights_new['carrier'] =Category_flights_new['carrier'].astype('category')\n",
        "Category_flights_new['origin']=Category_flights['origin'].astype('category')\n",
        "print(Category_flights_new.dtypes)\n"
      ],
      "execution_count": null,
      "outputs": [
        {
          "output_type": "stream",
          "text": [
            "carrier    category\n",
            "tailnum      object\n",
            "origin     category\n",
            "dest         object\n",
            "dtype: object\n"
          ],
          "name": "stdout"
        }
      ]
    },
    {
      "cell_type": "markdown",
      "metadata": {
        "id": "4A5yfeAIgN8N",
        "colab_type": "text"
      },
      "source": [
        "Encode Categorical values with a technique called \"Labe Encoding\" which allows us to convert each value in a column to a number. Numerical labels are always between 0 and n_categories-1. We can do label encoding using attributes with .cat.codes on our dataframe column"
      ]
    },
    {
      "cell_type": "code",
      "metadata": {
        "id": "ni4l3zNhfrC6",
        "colab_type": "code",
        "colab": {
          "base_uri": "https://localhost:8080/",
          "height": 206
        },
        "outputId": "c9722361-5420-4118-c8de-d926fb05d322"
      },
      "source": [
        "#Generic Label Encoding\n",
        "Category_flights_new['carrier'] = Category_flights_new['carrier'].cat.codes\n",
        "Category_flights_new.head()"
      ],
      "execution_count": null,
      "outputs": [
        {
          "output_type": "execute_result",
          "data": {
            "text/html": [
              "<div>\n",
              "<style scoped>\n",
              "    .dataframe tbody tr th:only-of-type {\n",
              "        vertical-align: middle;\n",
              "    }\n",
              "\n",
              "    .dataframe tbody tr th {\n",
              "        vertical-align: top;\n",
              "    }\n",
              "\n",
              "    .dataframe thead th {\n",
              "        text-align: right;\n",
              "    }\n",
              "</style>\n",
              "<table border=\"1\" class=\"dataframe\">\n",
              "  <thead>\n",
              "    <tr style=\"text-align: right;\">\n",
              "      <th></th>\n",
              "      <th>carrier</th>\n",
              "      <th>tailnum</th>\n",
              "      <th>origin</th>\n",
              "      <th>dest</th>\n",
              "    </tr>\n",
              "  </thead>\n",
              "  <tbody>\n",
              "    <tr>\n",
              "      <th>0</th>\n",
              "      <td>1</td>\n",
              "      <td>N508AS</td>\n",
              "      <td>PDX</td>\n",
              "      <td>ANC</td>\n",
              "    </tr>\n",
              "    <tr>\n",
              "      <th>1</th>\n",
              "      <td>8</td>\n",
              "      <td>N195UW</td>\n",
              "      <td>SEA</td>\n",
              "      <td>CLT</td>\n",
              "    </tr>\n",
              "    <tr>\n",
              "      <th>2</th>\n",
              "      <td>7</td>\n",
              "      <td>N37422</td>\n",
              "      <td>PDX</td>\n",
              "      <td>IAH</td>\n",
              "    </tr>\n",
              "    <tr>\n",
              "      <th>3</th>\n",
              "      <td>8</td>\n",
              "      <td>N547UW</td>\n",
              "      <td>PDX</td>\n",
              "      <td>CLT</td>\n",
              "    </tr>\n",
              "    <tr>\n",
              "      <th>4</th>\n",
              "      <td>1</td>\n",
              "      <td>N762AS</td>\n",
              "      <td>SEA</td>\n",
              "      <td>ANC</td>\n",
              "    </tr>\n",
              "  </tbody>\n",
              "</table>\n",
              "</div>"
            ],
            "text/plain": [
              "   carrier tailnum origin dest\n",
              "0        1  N508AS    PDX  ANC\n",
              "1        8  N195UW    SEA  CLT\n",
              "2        7  N37422    PDX  IAH\n",
              "3        8  N547UW    PDX  CLT\n",
              "4        1  N762AS    SEA  ANC"
            ]
          },
          "metadata": {
            "tags": []
          },
          "execution_count": 39
        }
      ]
    },
    {
      "cell_type": "code",
      "metadata": {
        "id": "emZ2vNU-hW2U",
        "colab_type": "code",
        "colab": {
          "base_uri": "https://localhost:8080/",
          "height": 206
        },
        "outputId": "fe8a34d0-344b-4123-c6e7-32788f7698ad"
      },
      "source": [
        "#Using LabelEncoder, Create a new data frame\n",
        "Category_flights_LE = Category_flights.copy()\n",
        "LE=LabelEncoder()\n",
        "Category_flights_LE['carrier_code'] =LE.fit_transform(Category_flights_LE['carrier'])\n",
        "Category_flights_LE.head()"
      ],
      "execution_count": null,
      "outputs": [
        {
          "output_type": "execute_result",
          "data": {
            "text/html": [
              "<div>\n",
              "<style scoped>\n",
              "    .dataframe tbody tr th:only-of-type {\n",
              "        vertical-align: middle;\n",
              "    }\n",
              "\n",
              "    .dataframe tbody tr th {\n",
              "        vertical-align: top;\n",
              "    }\n",
              "\n",
              "    .dataframe thead th {\n",
              "        text-align: right;\n",
              "    }\n",
              "</style>\n",
              "<table border=\"1\" class=\"dataframe\">\n",
              "  <thead>\n",
              "    <tr style=\"text-align: right;\">\n",
              "      <th></th>\n",
              "      <th>carrier</th>\n",
              "      <th>tailnum</th>\n",
              "      <th>origin</th>\n",
              "      <th>dest</th>\n",
              "      <th>carrier_code</th>\n",
              "    </tr>\n",
              "  </thead>\n",
              "  <tbody>\n",
              "    <tr>\n",
              "      <th>0</th>\n",
              "      <td>AS</td>\n",
              "      <td>N508AS</td>\n",
              "      <td>PDX</td>\n",
              "      <td>ANC</td>\n",
              "      <td>1</td>\n",
              "    </tr>\n",
              "    <tr>\n",
              "      <th>1</th>\n",
              "      <td>US</td>\n",
              "      <td>N195UW</td>\n",
              "      <td>SEA</td>\n",
              "      <td>CLT</td>\n",
              "      <td>8</td>\n",
              "    </tr>\n",
              "    <tr>\n",
              "      <th>2</th>\n",
              "      <td>UA</td>\n",
              "      <td>N37422</td>\n",
              "      <td>PDX</td>\n",
              "      <td>IAH</td>\n",
              "      <td>7</td>\n",
              "    </tr>\n",
              "    <tr>\n",
              "      <th>3</th>\n",
              "      <td>US</td>\n",
              "      <td>N547UW</td>\n",
              "      <td>PDX</td>\n",
              "      <td>CLT</td>\n",
              "      <td>8</td>\n",
              "    </tr>\n",
              "    <tr>\n",
              "      <th>4</th>\n",
              "      <td>AS</td>\n",
              "      <td>N762AS</td>\n",
              "      <td>SEA</td>\n",
              "      <td>ANC</td>\n",
              "      <td>1</td>\n",
              "    </tr>\n",
              "  </tbody>\n",
              "</table>\n",
              "</div>"
            ],
            "text/plain": [
              "  carrier tailnum origin dest  carrier_code\n",
              "0      AS  N508AS    PDX  ANC             1\n",
              "1      US  N195UW    SEA  CLT             8\n",
              "2      UA  N37422    PDX  IAH             7\n",
              "3      US  N547UW    PDX  CLT             8\n",
              "4      AS  N762AS    SEA  ANC             1"
            ]
          },
          "metadata": {
            "tags": []
          },
          "execution_count": 42
        }
      ]
    },
    {
      "cell_type": "markdown",
      "metadata": {
        "id": "3Zff6jtPkOem",
        "colab_type": "text"
      },
      "source": [
        "Label Encoding is striaght forward may give good performance for learning algorithm. But it has disadvanages numerical values can be misinterpreted by algorithm. "
      ]
    },
    {
      "cell_type": "markdown",
      "metadata": {
        "id": "4zpIBYFDkhvP",
        "colab_type": "text"
      },
      "source": [
        "Should the carrier US (encoded to 8) be given 8x more weight than the carrier AS (encoded to 1) ?\n",
        "\n",
        "To solve this issue there is another popular way to encode the categories via something called one-hot encoding."
      ]
    },
    {
      "cell_type": "markdown",
      "metadata": {
        "id": "RKUOe_5Xkmla",
        "colab_type": "text"
      },
      "source": [
        "One-Hot Encoding: Convert each category value into a new column and assign a 1 or 0(True/False) value to the column. This has benefit of not weighting a value improperly"
      ]
    },
    {
      "cell_type": "code",
      "metadata": {
        "id": "IYy7b8wzkjg0",
        "colab_type": "code",
        "colab": {
          "base_uri": "https://localhost:8080/",
          "height": 206
        },
        "outputId": "574f0360-2c65-463c-da51-f714dc7ea99f"
      },
      "source": [
        "#pandas.get_dummies() method\n",
        "#This function get_dummies() have 3 arguments, First one is Dataframe to encode, second Column argument and third prefix argument\n",
        "#create data frame\n",
        "Category_flights_onehot = Category_flights.copy()\n",
        "Category_flights_onehot = pd.get_dummies(Category_flights_onehot,columns=['carrier'],prefix=['carrier'])\n",
        "Category_flights_onehot.head()"
      ],
      "execution_count": null,
      "outputs": [
        {
          "output_type": "execute_result",
          "data": {
            "text/html": [
              "<div>\n",
              "<style scoped>\n",
              "    .dataframe tbody tr th:only-of-type {\n",
              "        vertical-align: middle;\n",
              "    }\n",
              "\n",
              "    .dataframe tbody tr th {\n",
              "        vertical-align: top;\n",
              "    }\n",
              "\n",
              "    .dataframe thead th {\n",
              "        text-align: right;\n",
              "    }\n",
              "</style>\n",
              "<table border=\"1\" class=\"dataframe\">\n",
              "  <thead>\n",
              "    <tr style=\"text-align: right;\">\n",
              "      <th></th>\n",
              "      <th>tailnum</th>\n",
              "      <th>origin</th>\n",
              "      <th>dest</th>\n",
              "      <th>carrier_AA</th>\n",
              "      <th>carrier_AS</th>\n",
              "      <th>carrier_B6</th>\n",
              "      <th>carrier_DL</th>\n",
              "      <th>carrier_F9</th>\n",
              "      <th>carrier_HA</th>\n",
              "      <th>carrier_OO</th>\n",
              "      <th>carrier_UA</th>\n",
              "      <th>carrier_US</th>\n",
              "      <th>carrier_VX</th>\n",
              "      <th>carrier_WN</th>\n",
              "    </tr>\n",
              "  </thead>\n",
              "  <tbody>\n",
              "    <tr>\n",
              "      <th>0</th>\n",
              "      <td>N508AS</td>\n",
              "      <td>PDX</td>\n",
              "      <td>ANC</td>\n",
              "      <td>0</td>\n",
              "      <td>1</td>\n",
              "      <td>0</td>\n",
              "      <td>0</td>\n",
              "      <td>0</td>\n",
              "      <td>0</td>\n",
              "      <td>0</td>\n",
              "      <td>0</td>\n",
              "      <td>0</td>\n",
              "      <td>0</td>\n",
              "      <td>0</td>\n",
              "    </tr>\n",
              "    <tr>\n",
              "      <th>1</th>\n",
              "      <td>N195UW</td>\n",
              "      <td>SEA</td>\n",
              "      <td>CLT</td>\n",
              "      <td>0</td>\n",
              "      <td>0</td>\n",
              "      <td>0</td>\n",
              "      <td>0</td>\n",
              "      <td>0</td>\n",
              "      <td>0</td>\n",
              "      <td>0</td>\n",
              "      <td>0</td>\n",
              "      <td>1</td>\n",
              "      <td>0</td>\n",
              "      <td>0</td>\n",
              "    </tr>\n",
              "    <tr>\n",
              "      <th>2</th>\n",
              "      <td>N37422</td>\n",
              "      <td>PDX</td>\n",
              "      <td>IAH</td>\n",
              "      <td>0</td>\n",
              "      <td>0</td>\n",
              "      <td>0</td>\n",
              "      <td>0</td>\n",
              "      <td>0</td>\n",
              "      <td>0</td>\n",
              "      <td>0</td>\n",
              "      <td>1</td>\n",
              "      <td>0</td>\n",
              "      <td>0</td>\n",
              "      <td>0</td>\n",
              "    </tr>\n",
              "    <tr>\n",
              "      <th>3</th>\n",
              "      <td>N547UW</td>\n",
              "      <td>PDX</td>\n",
              "      <td>CLT</td>\n",
              "      <td>0</td>\n",
              "      <td>0</td>\n",
              "      <td>0</td>\n",
              "      <td>0</td>\n",
              "      <td>0</td>\n",
              "      <td>0</td>\n",
              "      <td>0</td>\n",
              "      <td>0</td>\n",
              "      <td>1</td>\n",
              "      <td>0</td>\n",
              "      <td>0</td>\n",
              "    </tr>\n",
              "    <tr>\n",
              "      <th>4</th>\n",
              "      <td>N762AS</td>\n",
              "      <td>SEA</td>\n",
              "      <td>ANC</td>\n",
              "      <td>0</td>\n",
              "      <td>1</td>\n",
              "      <td>0</td>\n",
              "      <td>0</td>\n",
              "      <td>0</td>\n",
              "      <td>0</td>\n",
              "      <td>0</td>\n",
              "      <td>0</td>\n",
              "      <td>0</td>\n",
              "      <td>0</td>\n",
              "      <td>0</td>\n",
              "    </tr>\n",
              "  </tbody>\n",
              "</table>\n",
              "</div>"
            ],
            "text/plain": [
              "  tailnum origin dest  ...  carrier_US  carrier_VX  carrier_WN\n",
              "0  N508AS    PDX  ANC  ...           0           0           0\n",
              "1  N195UW    SEA  CLT  ...           1           0           0\n",
              "2  N37422    PDX  IAH  ...           0           0           0\n",
              "3  N547UW    PDX  CLT  ...           1           0           0\n",
              "4  N762AS    SEA  ANC  ...           0           0           0\n",
              "\n",
              "[5 rows x 14 columns]"
            ]
          },
          "metadata": {
            "tags": []
          },
          "execution_count": 43
        }
      ]
    },
    {
      "cell_type": "code",
      "metadata": {
        "id": "muekYDmOlnON",
        "colab_type": "code",
        "colab": {
          "base_uri": "https://localhost:8080/",
          "height": 127
        },
        "outputId": "6bcb6c63-892c-4532-df8f-3ff2e05fbeb2"
      },
      "source": [
        "#Scikit-learn also supports one hot encoding via LabelBinarizer and OneHotEncoder in its preprocessing module\n",
        "Category_flights_onehot_LB = Category_flights.copy()\n",
        "LB =LabelBinarizer()\n",
        "lb_results = LB.fit_transform(Category_flights_onehot_LB['carrier'])\n",
        "Category_lb_results = pd.DataFrame(lb_results,columns=LB.classes_)\n",
        "print(Category_lb_results.head())"
      ],
      "execution_count": null,
      "outputs": [
        {
          "output_type": "stream",
          "text": [
            "   AA  AS  B6  DL  F9  HA  OO  UA  US  VX  WN\n",
            "0   0   1   0   0   0   0   0   0   0   0   0\n",
            "1   0   0   0   0   0   0   0   0   1   0   0\n",
            "2   0   0   0   0   0   0   0   1   0   0   0\n",
            "3   0   0   0   0   0   0   0   0   1   0   0\n",
            "4   0   1   0   0   0   0   0   0   0   0   0\n"
          ],
          "name": "stdout"
        }
      ]
    },
    {
      "cell_type": "markdown",
      "metadata": {
        "id": "9GgrVaKcnI8w",
        "colab_type": "text"
      },
      "source": [
        "Result in new dataframe only have one hot encodings for the feature Carrier. This needs to be concatenated back with Original DataFrame, which can be done with pandas.concat() method, axis argument is set to 1. We want to merge on columns"
      ]
    },
    {
      "cell_type": "code",
      "metadata": {
        "id": "k03NN11gnDUs",
        "colab_type": "code",
        "colab": {
          "base_uri": "https://localhost:8080/",
          "height": 274
        },
        "outputId": "59a7dd7b-97e2-43fd-9875-1d18681c93c0"
      },
      "source": [
        "Category_result = pd.concat([Category_flights_onehot_LB,Category_lb_results],axis=1)\n",
        "print(Category_result)"
      ],
      "execution_count": null,
      "outputs": [
        {
          "output_type": "stream",
          "text": [
            "       carrier tailnum origin dest  AA  AS  B6  DL  F9  HA  OO  UA  US  VX  WN\n",
            "0           AS  N508AS    PDX  ANC   0   1   0   0   0   0   0   0   0   0   0\n",
            "1           US  N195UW    SEA  CLT   0   0   0   0   0   0   0   0   1   0   0\n",
            "2           UA  N37422    PDX  IAH   0   0   0   0   0   0   0   1   0   0   0\n",
            "3           US  N547UW    PDX  CLT   0   0   0   0   0   0   0   0   1   0   0\n",
            "4           AS  N762AS    SEA  ANC   0   1   0   0   0   0   0   0   0   0   0\n",
            "...        ...     ...    ...  ...  ..  ..  ..  ..  ..  ..  ..  ..  ..  ..  ..\n",
            "162044      UA  N477UA    PDX  IAH   0   0   0   0   0   0   0   1   0   0   0\n",
            "162045      DL  N137DL    SEA  ATL   0   0   0   1   0   0   0   0   0   0   0\n",
            "162046      AS  N530AS    SEA  SAN   0   1   0   0   0   0   0   0   0   0   0\n",
            "162047      US  N223AG    PDX  PHX   0   0   0   0   0   0   0   0   1   0   0\n",
            "162048      WN  N790SW    SEA  SMF   0   0   0   0   0   0   0   0   0   0   1\n",
            "\n",
            "[162049 rows x 15 columns]\n"
          ],
          "name": "stdout"
        }
      ]
    },
    {
      "cell_type": "markdown",
      "metadata": {
        "id": "A1NYfBnNntwo",
        "colab_type": "text"
      },
      "source": [
        "One Hot Encoding solves the problem of unequal Weights given to categories within a feature. it is not very useful when there are many categories, as that will result in formation of many new columns. Result is Curse of Dimensionality"
      ]
    },
    {
      "cell_type": "code",
      "metadata": {
        "id": "4TqBKx6FoE82",
        "colab_type": "code",
        "colab": {
          "base_uri": "https://localhost:8080/",
          "height": 175
        },
        "outputId": "ff82215c-4db5-497a-a983-dced0638a66a"
      },
      "source": [
        "#Sometimes we may encounter Categorical Feature columns specify the ranges of values for observation points.\n",
        "Age = pd.DataFrame({'age':['0-20','20-40','40-60','60-80']})\n",
        "Age['start'] ,Age['end'] = zip(*Age['age'].map(lambda x: x.split('-')))\n",
        "Age.head()\n"
      ],
      "execution_count": null,
      "outputs": [
        {
          "output_type": "execute_result",
          "data": {
            "text/html": [
              "<div>\n",
              "<style scoped>\n",
              "    .dataframe tbody tr th:only-of-type {\n",
              "        vertical-align: middle;\n",
              "    }\n",
              "\n",
              "    .dataframe tbody tr th {\n",
              "        vertical-align: top;\n",
              "    }\n",
              "\n",
              "    .dataframe thead th {\n",
              "        text-align: right;\n",
              "    }\n",
              "</style>\n",
              "<table border=\"1\" class=\"dataframe\">\n",
              "  <thead>\n",
              "    <tr style=\"text-align: right;\">\n",
              "      <th></th>\n",
              "      <th>age</th>\n",
              "      <th>start</th>\n",
              "      <th>end</th>\n",
              "    </tr>\n",
              "  </thead>\n",
              "  <tbody>\n",
              "    <tr>\n",
              "      <th>0</th>\n",
              "      <td>0-20</td>\n",
              "      <td>0</td>\n",
              "      <td>20</td>\n",
              "    </tr>\n",
              "    <tr>\n",
              "      <th>1</th>\n",
              "      <td>20-40</td>\n",
              "      <td>20</td>\n",
              "      <td>40</td>\n",
              "    </tr>\n",
              "    <tr>\n",
              "      <th>2</th>\n",
              "      <td>40-60</td>\n",
              "      <td>40</td>\n",
              "      <td>60</td>\n",
              "    </tr>\n",
              "    <tr>\n",
              "      <th>3</th>\n",
              "      <td>60-80</td>\n",
              "      <td>60</td>\n",
              "      <td>80</td>\n",
              "    </tr>\n",
              "  </tbody>\n",
              "</table>\n",
              "</div>"
            ],
            "text/plain": [
              "     age start end\n",
              "0   0-20     0  20\n",
              "1  20-40    20  40\n",
              "2  40-60    40  60\n",
              "3  60-80    60  80"
            ]
          },
          "metadata": {
            "tags": []
          },
          "execution_count": 59
        }
      ]
    }
  ]
}