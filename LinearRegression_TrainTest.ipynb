{
  "nbformat": 4,
  "nbformat_minor": 0,
  "metadata": {
    "colab": {
      "name": "LinearRegression_TrainTest.ipynb",
      "provenance": [],
      "collapsed_sections": [],
      "include_colab_link": true
    },
    "kernelspec": {
      "name": "python3",
      "display_name": "Python 3"
    }
  },
  "cells": [
    {
      "cell_type": "markdown",
      "metadata": {
        "id": "view-in-github",
        "colab_type": "text"
      },
      "source": [
        "<a href=\"https://colab.research.google.com/github/Harika822/projects/blob/master/LinearRegression_TrainTest.ipynb\" target=\"_parent\"><img src=\"https://colab.research.google.com/assets/colab-badge.svg\" alt=\"Open In Colab\"/></a>"
      ]
    },
    {
      "cell_type": "code",
      "metadata": {
        "id": "xUla1IVdLmo-",
        "colab_type": "code",
        "colab": {}
      },
      "source": [
        "#Import require Libraries\n",
        "import pandas as pd\n",
        "import matplotlib.pyplot as plt\n",
        "from sklearn.model_selection import train_test_split\n",
        "from sklearn.linear_model import LinearRegression\n",
        "from sklearn import metrics\n",
        "import numpy as np"
      ],
      "execution_count": null,
      "outputs": []
    },
    {
      "cell_type": "code",
      "metadata": {
        "id": "L9H63Z5GLpKt",
        "colab_type": "code",
        "colab": {
          "base_uri": "https://localhost:8080/",
          "height": 35
        },
        "outputId": "72f514f6-bece-41c8-c0c5-288c81b9f62d"
      },
      "source": [
        "Adata = pd.read_csv('Advertising.csv')\n",
        "Adata.shape"
      ],
      "execution_count": null,
      "outputs": [
        {
          "output_type": "execute_result",
          "data": {
            "text/plain": [
              "(200, 5)"
            ]
          },
          "metadata": {
            "tags": []
          },
          "execution_count": 3
        }
      ]
    },
    {
      "cell_type": "code",
      "metadata": {
        "id": "cI3517QcLuNs",
        "colab_type": "code",
        "colab": {
          "base_uri": "https://localhost:8080/",
          "height": 424
        },
        "outputId": "5ac5d209-1c08-41dd-c6e6-b26f52036734"
      },
      "source": [
        "Adata.drop(labels=['Unnamed: 0'],axis=1,inplace=True)\n",
        "Adata"
      ],
      "execution_count": null,
      "outputs": [
        {
          "output_type": "execute_result",
          "data": {
            "text/html": [
              "<div>\n",
              "<style scoped>\n",
              "    .dataframe tbody tr th:only-of-type {\n",
              "        vertical-align: middle;\n",
              "    }\n",
              "\n",
              "    .dataframe tbody tr th {\n",
              "        vertical-align: top;\n",
              "    }\n",
              "\n",
              "    .dataframe thead th {\n",
              "        text-align: right;\n",
              "    }\n",
              "</style>\n",
              "<table border=\"1\" class=\"dataframe\">\n",
              "  <thead>\n",
              "    <tr style=\"text-align: right;\">\n",
              "      <th></th>\n",
              "      <th>TV</th>\n",
              "      <th>radio</th>\n",
              "      <th>newspaper</th>\n",
              "      <th>sales</th>\n",
              "    </tr>\n",
              "  </thead>\n",
              "  <tbody>\n",
              "    <tr>\n",
              "      <th>0</th>\n",
              "      <td>230.1</td>\n",
              "      <td>37.8</td>\n",
              "      <td>69.2</td>\n",
              "      <td>22.1</td>\n",
              "    </tr>\n",
              "    <tr>\n",
              "      <th>1</th>\n",
              "      <td>44.5</td>\n",
              "      <td>39.3</td>\n",
              "      <td>45.1</td>\n",
              "      <td>10.4</td>\n",
              "    </tr>\n",
              "    <tr>\n",
              "      <th>2</th>\n",
              "      <td>17.2</td>\n",
              "      <td>45.9</td>\n",
              "      <td>69.3</td>\n",
              "      <td>9.3</td>\n",
              "    </tr>\n",
              "    <tr>\n",
              "      <th>3</th>\n",
              "      <td>151.5</td>\n",
              "      <td>41.3</td>\n",
              "      <td>58.5</td>\n",
              "      <td>18.5</td>\n",
              "    </tr>\n",
              "    <tr>\n",
              "      <th>4</th>\n",
              "      <td>180.8</td>\n",
              "      <td>10.8</td>\n",
              "      <td>58.4</td>\n",
              "      <td>12.9</td>\n",
              "    </tr>\n",
              "    <tr>\n",
              "      <th>...</th>\n",
              "      <td>...</td>\n",
              "      <td>...</td>\n",
              "      <td>...</td>\n",
              "      <td>...</td>\n",
              "    </tr>\n",
              "    <tr>\n",
              "      <th>195</th>\n",
              "      <td>38.2</td>\n",
              "      <td>3.7</td>\n",
              "      <td>13.8</td>\n",
              "      <td>7.6</td>\n",
              "    </tr>\n",
              "    <tr>\n",
              "      <th>196</th>\n",
              "      <td>94.2</td>\n",
              "      <td>4.9</td>\n",
              "      <td>8.1</td>\n",
              "      <td>9.7</td>\n",
              "    </tr>\n",
              "    <tr>\n",
              "      <th>197</th>\n",
              "      <td>177.0</td>\n",
              "      <td>9.3</td>\n",
              "      <td>6.4</td>\n",
              "      <td>12.8</td>\n",
              "    </tr>\n",
              "    <tr>\n",
              "      <th>198</th>\n",
              "      <td>283.6</td>\n",
              "      <td>42.0</td>\n",
              "      <td>66.2</td>\n",
              "      <td>25.5</td>\n",
              "    </tr>\n",
              "    <tr>\n",
              "      <th>199</th>\n",
              "      <td>232.1</td>\n",
              "      <td>8.6</td>\n",
              "      <td>8.7</td>\n",
              "      <td>13.4</td>\n",
              "    </tr>\n",
              "  </tbody>\n",
              "</table>\n",
              "<p>200 rows × 4 columns</p>\n",
              "</div>"
            ],
            "text/plain": [
              "        TV  radio  newspaper  sales\n",
              "0    230.1   37.8       69.2   22.1\n",
              "1     44.5   39.3       45.1   10.4\n",
              "2     17.2   45.9       69.3    9.3\n",
              "3    151.5   41.3       58.5   18.5\n",
              "4    180.8   10.8       58.4   12.9\n",
              "..     ...    ...        ...    ...\n",
              "195   38.2    3.7       13.8    7.6\n",
              "196   94.2    4.9        8.1    9.7\n",
              "197  177.0    9.3        6.4   12.8\n",
              "198  283.6   42.0       66.2   25.5\n",
              "199  232.1    8.6        8.7   13.4\n",
              "\n",
              "[200 rows x 4 columns]"
            ]
          },
          "metadata": {
            "tags": []
          },
          "execution_count": 4
        }
      ]
    },
    {
      "cell_type": "code",
      "metadata": {
        "id": "ghScKgD2Lxg7",
        "colab_type": "code",
        "colab": {}
      },
      "source": [
        "TV = Adata.loc[:,'TV']\n",
        "Radio = Adata.loc[:,'radio']\n",
        "News = Adata.loc[:,'newspaper']\n",
        "Sales =Adata.loc[:,'sales']"
      ],
      "execution_count": null,
      "outputs": []
    },
    {
      "cell_type": "code",
      "metadata": {
        "id": "Mgw83idjL0yN",
        "colab_type": "code",
        "colab": {
          "base_uri": "https://localhost:8080/",
          "height": 521
        },
        "outputId": "fc2befe5-9aef-44cf-e590-59b10aa0d648"
      },
      "source": [
        "plt.rcParams[\"figure.figsize\"] = (16,8)\n",
        "plt.subplot(1,3,1)\n",
        "plt.scatter(Radio,Sales)\n",
        "plt.title('Radio Wise Sales',fontsize=20)\n",
        "plt.xlabel('Radio',fontsize=12)\n",
        "plt.ylabel('Ssales',fontsize=12)\n",
        "\n",
        "plt.subplot(1,3,2)\n",
        "plt.scatter(News,Sales,color=\"orange\")\n",
        "plt.title('News Paper Wise Sales',fontsize=20)\n",
        "plt.xlabel('News',fontsize=12)\n",
        "plt.ylabel('Sales',fontsize=12)\n",
        "\n",
        "\n",
        "plt.subplot(1,3,3)\n",
        "plt.scatter(TV,Sales,color=\"orange\")\n",
        "plt.title('TV Wise Sales',fontsize=20)\n",
        "plt.xlabel('TV',fontsize=12)\n",
        "plt.ylabel('Sales',fontsize=12)\n",
        "plt.show()\n"
      ],
      "execution_count": null,
      "outputs": [
        {
          "output_type": "display_data",
          "data": {
            "image/png": "[encoded data removed]",
            "text/plain": [
              "<Figure size 1152x576 with 3 Axes>"
            ]
          },
          "metadata": {
            "tags": []
          }
        }
      ]
    },
    {
      "cell_type": "code",
      "metadata": {
        "id": "P_fo35cRL4eo",
        "colab_type": "code",
        "colab": {}
      },
      "source": [
        "print (\"TV\",Adata['TV'].values)\n",
        "print(\"Sales\",Adata['sales'].values)"
      ],
      "execution_count": null,
      "outputs": []
    },
    {
      "cell_type": "code",
      "metadata": {
        "id": "FMtRmGE0L7nr",
        "colab_type": "code",
        "colab": {
          "base_uri": "https://localhost:8080/",
          "height": 35
        },
        "outputId": "f387c175-8488-4080-f82a-81a44e1a1935"
      },
      "source": [
        "X= Adata['TV'].values.reshape(-1,1)\n",
        "np.shape(X)\n",
        "y = Adata['sales'].values.reshape(-1,1)\n",
        "np.shape(y)"
      ],
      "execution_count": null,
      "outputs": [
        {
          "output_type": "execute_result",
          "data": {
            "text/plain": [
              "(200, 1)"
            ]
          },
          "metadata": {
            "tags": []
          },
          "execution_count": 7
        }
      ]
    },
    {
      "cell_type": "code",
      "metadata": {
        "id": "5Vo2bLT0MAex",
        "colab_type": "code",
        "colab": {}
      },
      "source": [
        "X_train,X_test,y_train,y_test = train_test_split(X,y,test_size=0.2,random_state=0)"
      ],
      "execution_count": null,
      "outputs": []
    },
    {
      "cell_type": "code",
      "metadata": {
        "id": "tp-6kGg-MbCj",
        "colab_type": "code",
        "colab": {
          "base_uri": "https://localhost:8080/",
          "height": 54
        },
        "outputId": "636fcd1e-0636-4693-b987-677f91160e15"
      },
      "source": [
        "#Implementing Linear Regression Algorithim\n",
        "regress = LinearRegression()\n",
        "regress.fit(X_train,y_train)\n",
        "#To Retrieve the Intercept\n",
        "print(regress.intercept_)\n",
        "#To Retrieving the slope\n",
        "print(regress.coef_)"
      ],
      "execution_count": null,
      "outputs": [
        {
          "output_type": "stream",
          "text": [
            "[7.29249377]\n",
            "[[0.04600779]]\n"
          ],
          "name": "stdout"
        }
      ]
    },
    {
      "cell_type": "code",
      "metadata": {
        "id": "dnxLLNGIMarB",
        "colab_type": "code",
        "colab": {
          "base_uri": "https://localhost:8080/",
          "height": 752
        },
        "outputId": "7efb68fd-6e1d-4fef-f3f6-8d0b85da3e1e"
      },
      "source": [
        "y_pred = regress.predict(X_test)\n",
        "print(y_pred)"
      ],
      "execution_count": null,
      "outputs": [
        {
          "output_type": "stream",
          "text": [
            "[[10.47623281]\n",
            " [ 9.59288325]\n",
            " [11.45159795]\n",
            " [20.62095042]\n",
            " [15.12301956]\n",
            " [ 9.87813155]\n",
            " [ 7.69276154]\n",
            " [18.33896406]\n",
            " [ 8.38747917]\n",
            " [16.383633  ]\n",
            " [19.3143292 ]\n",
            " [11.30437303]\n",
            " [14.49731363]\n",
            " [15.93275666]\n",
            " [10.8074889 ]\n",
            " [12.82263008]\n",
            " [19.51216269]\n",
            " [ 7.32469923]\n",
            " [10.72927566]\n",
            " [17.11055607]\n",
            " [20.52433406]\n",
            " [13.74738665]\n",
            " [15.34845773]\n",
            " [13.35171966]\n",
            " [ 9.75391052]\n",
            " [12.95605267]\n",
            " [14.91138373]\n",
            " [16.72409064]\n",
            " [17.59823864]\n",
            " [ 8.44728929]\n",
            " [10.41182191]\n",
            " [16.44344313]\n",
            " [20.20688032]\n",
            " [18.41257652]\n",
            " [ 7.8997966 ]\n",
            " [ 8.15283944]\n",
            " [10.03455803]\n",
            " [15.61070213]\n",
            " [10.43942658]\n",
            " [ 8.44268851]]\n"
          ],
          "name": "stdout"
        }
      ]
    },
    {
      "cell_type": "code",
      "metadata": {
        "id": "TyyuyH7qNB8E",
        "colab_type": "code",
        "colab": {
          "base_uri": "https://localhost:8080/",
          "height": 1000
        },
        "outputId": "bdca1731-ba09-46e6-99dc-75c42284e5a6"
      },
      "source": [
        "actual_predict = pd.DataFrame({'Actual':y_test.flatten(),'Predicted':y_pred.flatten()})\n",
        "actual_predict"
      ],
      "execution_count": null,
      "outputs": [
        {
          "output_type": "execute_result",
          "data": {
            "text/html": [
              "<div>\n",
              "<style scoped>\n",
              "    .dataframe tbody tr th:only-of-type {\n",
              "        vertical-align: middle;\n",
              "    }\n",
              "\n",
              "    .dataframe tbody tr th {\n",
              "        vertical-align: top;\n",
              "    }\n",
              "\n",
              "    .dataframe thead th {\n",
              "        text-align: right;\n",
              "    }\n",
              "</style>\n",
              "<table border=\"1\" class=\"dataframe\">\n",
              "  <thead>\n",
              "    <tr style=\"text-align: right;\">\n",
              "      <th></th>\n",
              "      <th>Actual</th>\n",
              "      <th>Predicted</th>\n",
              "    </tr>\n",
              "  </thead>\n",
              "  <tbody>\n",
              "    <tr>\n",
              "      <th>0</th>\n",
              "      <td>11.3</td>\n",
              "      <td>10.476233</td>\n",
              "    </tr>\n",
              "    <tr>\n",
              "      <th>1</th>\n",
              "      <td>8.4</td>\n",
              "      <td>9.592883</td>\n",
              "    </tr>\n",
              "    <tr>\n",
              "      <th>2</th>\n",
              "      <td>8.7</td>\n",
              "      <td>11.451598</td>\n",
              "    </tr>\n",
              "    <tr>\n",
              "      <th>3</th>\n",
              "      <td>25.4</td>\n",
              "      <td>20.620950</td>\n",
              "    </tr>\n",
              "    <tr>\n",
              "      <th>4</th>\n",
              "      <td>11.7</td>\n",
              "      <td>15.123020</td>\n",
              "    </tr>\n",
              "    <tr>\n",
              "      <th>5</th>\n",
              "      <td>8.7</td>\n",
              "      <td>9.878132</td>\n",
              "    </tr>\n",
              "    <tr>\n",
              "      <th>6</th>\n",
              "      <td>7.2</td>\n",
              "      <td>7.692762</td>\n",
              "    </tr>\n",
              "    <tr>\n",
              "      <th>7</th>\n",
              "      <td>13.2</td>\n",
              "      <td>18.338964</td>\n",
              "    </tr>\n",
              "    <tr>\n",
              "      <th>8</th>\n",
              "      <td>9.2</td>\n",
              "      <td>8.387479</td>\n",
              "    </tr>\n",
              "    <tr>\n",
              "      <th>9</th>\n",
              "      <td>16.6</td>\n",
              "      <td>16.383633</td>\n",
              "    </tr>\n",
              "    <tr>\n",
              "      <th>10</th>\n",
              "      <td>24.2</td>\n",
              "      <td>19.314329</td>\n",
              "    </tr>\n",
              "    <tr>\n",
              "      <th>11</th>\n",
              "      <td>10.6</td>\n",
              "      <td>11.304373</td>\n",
              "    </tr>\n",
              "    <tr>\n",
              "      <th>12</th>\n",
              "      <td>10.5</td>\n",
              "      <td>14.497314</td>\n",
              "    </tr>\n",
              "    <tr>\n",
              "      <th>13</th>\n",
              "      <td>15.6</td>\n",
              "      <td>15.932757</td>\n",
              "    </tr>\n",
              "    <tr>\n",
              "      <th>14</th>\n",
              "      <td>11.8</td>\n",
              "      <td>10.807489</td>\n",
              "    </tr>\n",
              "    <tr>\n",
              "      <th>15</th>\n",
              "      <td>13.2</td>\n",
              "      <td>12.822630</td>\n",
              "    </tr>\n",
              "    <tr>\n",
              "      <th>16</th>\n",
              "      <td>17.4</td>\n",
              "      <td>19.512163</td>\n",
              "    </tr>\n",
              "    <tr>\n",
              "      <th>17</th>\n",
              "      <td>1.6</td>\n",
              "      <td>7.324699</td>\n",
              "    </tr>\n",
              "    <tr>\n",
              "      <th>18</th>\n",
              "      <td>14.7</td>\n",
              "      <td>10.729276</td>\n",
              "    </tr>\n",
              "    <tr>\n",
              "      <th>19</th>\n",
              "      <td>17.0</td>\n",
              "      <td>17.110556</td>\n",
              "    </tr>\n",
              "    <tr>\n",
              "      <th>20</th>\n",
              "      <td>26.2</td>\n",
              "      <td>20.524334</td>\n",
              "    </tr>\n",
              "    <tr>\n",
              "      <th>21</th>\n",
              "      <td>10.3</td>\n",
              "      <td>13.747387</td>\n",
              "    </tr>\n",
              "    <tr>\n",
              "      <th>22</th>\n",
              "      <td>14.9</td>\n",
              "      <td>15.348458</td>\n",
              "    </tr>\n",
              "    <tr>\n",
              "      <th>23</th>\n",
              "      <td>12.9</td>\n",
              "      <td>13.351720</td>\n",
              "    </tr>\n",
              "    <tr>\n",
              "      <th>24</th>\n",
              "      <td>8.1</td>\n",
              "      <td>9.753911</td>\n",
              "    </tr>\n",
              "    <tr>\n",
              "      <th>25</th>\n",
              "      <td>15.2</td>\n",
              "      <td>12.956053</td>\n",
              "    </tr>\n",
              "    <tr>\n",
              "      <th>26</th>\n",
              "      <td>12.6</td>\n",
              "      <td>14.911384</td>\n",
              "    </tr>\n",
              "    <tr>\n",
              "      <th>27</th>\n",
              "      <td>22.6</td>\n",
              "      <td>16.724091</td>\n",
              "    </tr>\n",
              "    <tr>\n",
              "      <th>28</th>\n",
              "      <td>11.6</td>\n",
              "      <td>17.598239</td>\n",
              "    </tr>\n",
              "    <tr>\n",
              "      <th>29</th>\n",
              "      <td>8.5</td>\n",
              "      <td>8.447289</td>\n",
              "    </tr>\n",
              "    <tr>\n",
              "      <th>30</th>\n",
              "      <td>12.5</td>\n",
              "      <td>10.411822</td>\n",
              "    </tr>\n",
              "    <tr>\n",
              "      <th>31</th>\n",
              "      <td>23.7</td>\n",
              "      <td>16.443443</td>\n",
              "    </tr>\n",
              "    <tr>\n",
              "      <th>32</th>\n",
              "      <td>16.1</td>\n",
              "      <td>20.206880</td>\n",
              "    </tr>\n",
              "    <tr>\n",
              "      <th>33</th>\n",
              "      <td>21.8</td>\n",
              "      <td>18.412577</td>\n",
              "    </tr>\n",
              "    <tr>\n",
              "      <th>34</th>\n",
              "      <td>5.6</td>\n",
              "      <td>7.899797</td>\n",
              "    </tr>\n",
              "    <tr>\n",
              "      <th>35</th>\n",
              "      <td>6.7</td>\n",
              "      <td>8.152839</td>\n",
              "    </tr>\n",
              "    <tr>\n",
              "      <th>36</th>\n",
              "      <td>9.7</td>\n",
              "      <td>10.034558</td>\n",
              "    </tr>\n",
              "    <tr>\n",
              "      <th>37</th>\n",
              "      <td>12.9</td>\n",
              "      <td>15.610702</td>\n",
              "    </tr>\n",
              "    <tr>\n",
              "      <th>38</th>\n",
              "      <td>13.6</td>\n",
              "      <td>10.439427</td>\n",
              "    </tr>\n",
              "    <tr>\n",
              "      <th>39</th>\n",
              "      <td>7.2</td>\n",
              "      <td>8.442689</td>\n",
              "    </tr>\n",
              "  </tbody>\n",
              "</table>\n",
              "</div>"
            ],
            "text/plain": [
              "    Actual  Predicted\n",
              "0     11.3  10.476233\n",
              "1      8.4   9.592883\n",
              "2      8.7  11.451598\n",
              "3     25.4  20.620950\n",
              "4     11.7  15.123020\n",
              "5      8.7   9.878132\n",
              "6      7.2   7.692762\n",
              "7     13.2  18.338964\n",
              "8      9.2   8.387479\n",
              "9     16.6  16.383633\n",
              "10    24.2  19.314329\n",
              "11    10.6  11.304373\n",
              "12    10.5  14.497314\n",
              "13    15.6  15.932757\n",
              "14    11.8  10.807489\n",
              "15    13.2  12.822630\n",
              "16    17.4  19.512163\n",
              "17     1.6   7.324699\n",
              "18    14.7  10.729276\n",
              "19    17.0  17.110556\n",
              "20    26.2  20.524334\n",
              "21    10.3  13.747387\n",
              "22    14.9  15.348458\n",
              "23    12.9  13.351720\n",
              "24     8.1   9.753911\n",
              "25    15.2  12.956053\n",
              "26    12.6  14.911384\n",
              "27    22.6  16.724091\n",
              "28    11.6  17.598239\n",
              "29     8.5   8.447289\n",
              "30    12.5  10.411822\n",
              "31    23.7  16.443443\n",
              "32    16.1  20.206880\n",
              "33    21.8  18.412577\n",
              "34     5.6   7.899797\n",
              "35     6.7   8.152839\n",
              "36     9.7  10.034558\n",
              "37    12.9  15.610702\n",
              "38    13.6  10.439427\n",
              "39     7.2   8.442689"
            ]
          },
          "metadata": {
            "tags": []
          },
          "execution_count": 12
        }
      ]
    },
    {
      "cell_type": "code",
      "metadata": {
        "id": "q488vgg4NGxt",
        "colab_type": "code",
        "colab": {
          "base_uri": "https://localhost:8080/",
          "height": 594
        },
        "outputId": "048eac2a-07ce-4664-a2a9-b52151e3d578"
      },
      "source": [
        "ap=actual_predict.head(20)\n",
        "ap.plot(kind='bar',figsize=(16,10))\n",
        "plt.grid(which ='major', linestyle='-', linewidth='0.5',color='green')\n",
        "plt.grid(which ='minor', linestyle= ':', linewidth='0.5', color='black')\n",
        "plt.show()"
      ],
      "execution_count": null,
      "outputs": [
        {
          "output_type": "display_data",
          "data": {
            "image/png": "[encoded data removed]",
            "text/plain": [
              "<Figure size 1152x720 with 1 Axes>"
            ]
          },
          "metadata": {
            "tags": []
          }
        }
      ]
    },
    {
      "cell_type": "code",
      "metadata": {
        "id": "tm5tnWwiNKtu",
        "colab_type": "code",
        "colab": {
          "base_uri": "https://localhost:8080/",
          "height": 497
        },
        "outputId": "5c6fcb96-d2c9-4312-81c6-871beecbd992"
      },
      "source": [
        "plt.figure(figsize=(16,8))\n",
        "plt.scatter(X_test,y_test,c='blue')\n",
        "plt.plot(X_test,y_pred,c='red',linewidth=2)\n",
        "plt.xlabel(\"Amount Spend on TV Ads($)\")\n",
        "plt.ylabel(\"Sales($)\")\n",
        "plt.show()"
      ],
      "execution_count": null,
      "outputs": [
        {
          "output_type": "display_data",
          "data": {
            "image/png": "[encoded data removed]",
            "text/plain": [
              "<Figure size 1152x576 with 1 Axes>"
            ]
          },
          "metadata": {
            "tags": []
          }
        }
      ]
    },
    {
      "cell_type": "code",
      "metadata": {
        "id": "cDR7kUJSNnIC",
        "colab_type": "code",
        "colab": {
          "base_uri": "https://localhost:8080/",
          "height": 72
        },
        "outputId": "29ea2977-b8ea-4198-a77b-7b2d71d676ea"
      },
      "source": [
        "print('Mean Absolute Error:',metrics.mean_absolute_error(y_test,y_pred))\n",
        "print('Mean Squared Error:',metrics.mean_squared_error(y_test,y_pred))\n",
        "print('Root Mean Square Error:',np.sqrt(metrics.mean_squared_error(y_test,y_pred)))"
      ],
      "execution_count": null,
      "outputs": [
        {
          "output_type": "stream",
          "text": [
            "Mean Absolute Error: 2.505418178966003\n",
            "Mean Squared Error: 10.18618193453022\n",
            "Root Mean Square Error: 3.191579849311344\n"
          ],
          "name": "stdout"
        }
      ]
    }
  ]
}