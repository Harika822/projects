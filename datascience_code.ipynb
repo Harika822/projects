{
  "nbformat": 4,
  "nbformat_minor": 0,
  "metadata": {
    "colab": {
      "name": "datascience code.ipynb",
      "provenance": [],
      "collapsed_sections": [],
      "toc_visible": true,
      "authorship_tag": "ABX9TyPOw/5M4U0PO1hM5qEJNICZ",
      "include_colab_link": true
    },
    "kernelspec": {
      "name": "python3",
      "display_name": "Python 3"
    }
  },
  "cells": [
    {
      "cell_type": "markdown",
      "metadata": {
        "id": "view-in-github",
        "colab_type": "text"
      },
      "source": [
        "<a href=\"https://colab.research.google.com/github/Harika822/projects/blob/master/datascience_code.ipynb\" target=\"_parent\"><img src=\"https://colab.research.google.com/assets/colab-badge.svg\" alt=\"Open In Colab\"/></a>"
      ]
    },
    {
      "cell_type": "code",
      "metadata": {
        "id": "8H1Fr6mKkvQU",
        "colab_type": "code",
        "colab": {}
      },
      "source": [
        "#author=\"harika\"\n",
        "import pandas as pd\n",
        "import matplotlib.pyplot as plt\n",
        "import numpy as np"
      ],
      "execution_count": null,
      "outputs": []
    },
    {
      "cell_type": "code",
      "metadata": {
        "id": "RPij9TPplhUf",
        "colab_type": "code",
        "colab": {
          "base_uri": "https://localhost:8080/",
          "height": 813
        },
        "outputId": "1b1abfa2-5c50-470e-895f-c9075198d456"
      },
      "source": [
        "data=pd.read_excel('LMI_ENM434_ddp_2019-12-06.xlsx')\n",
        "data_req=pd.DataFrame(data)\n",
        "data_req"
      ],
      "execution_count": null,
      "outputs": [
        {
          "output_type": "execute_result",
          "data": {
            "text/html": [
              "<div>\n",
              "<style scoped>\n",
              "    .dataframe tbody tr th:only-of-type {\n",
              "        vertical-align: middle;\n",
              "    }\n",
              "\n",
              "    .dataframe tbody tr th {\n",
              "        vertical-align: top;\n",
              "    }\n",
              "\n",
              "    .dataframe thead th {\n",
              "        text-align: right;\n",
              "    }\n",
              "</style>\n",
              "<table border=\"1\" class=\"dataframe\">\n",
              "  <thead>\n",
              "    <tr style=\"text-align: right;\">\n",
              "      <th></th>\n",
              "      <th>Date</th>\n",
              "      <th>temp_bytes</th>\n",
              "      <th>tx_committed</th>\n",
              "      <th>process_memory</th>\n",
              "      <th>rows_inserted</th>\n",
              "      <th>queries_conflict_cancelled</th>\n",
              "      <th>deadlocks</th>\n",
              "      <th>storage</th>\n",
              "      <th>rows_fetched</th>\n",
              "      <th>blocks_read</th>\n",
              "      <th>rows_updated</th>\n",
              "      <th>rows_deleted</th>\n",
              "      <th>backends</th>\n",
              "      <th>blocks_hit</th>\n",
              "      <th>memory</th>\n",
              "      <th>tx_rolled_back</th>\n",
              "      <th>temp_files</th>\n",
              "      <th>cpu</th>\n",
              "      <th>rows_returned</th>\n",
              "      <th>process_cpu</th>\n",
              "    </tr>\n",
              "  </thead>\n",
              "  <tbody>\n",
              "    <tr>\n",
              "      <th>0</th>\n",
              "      <td>2019-12-04 - 2019-12-04</td>\n",
              "      <td>NaN</td>\n",
              "      <td>NaN</td>\n",
              "      <td>NaN</td>\n",
              "      <td>NaN</td>\n",
              "      <td>NaN</td>\n",
              "      <td>NaN</td>\n",
              "      <td>postgres_fs - 7.7</td>\n",
              "      <td>2019-12-04 14:50:00 - 197126066</td>\n",
              "      <td>2019-12-04 03:35:00 - 22311750</td>\n",
              "      <td>NaN</td>\n",
              "      <td>NaN</td>\n",
              "      <td>NaN</td>\n",
              "      <td>NaN</td>\n",
              "      <td>NaN</td>\n",
              "      <td>2019-12-04 00:20:00 - 5241570</td>\n",
              "      <td>NaN</td>\n",
              "      <td>NaN</td>\n",
              "      <td>2019-12-04 01:20:00 - 4056078936</td>\n",
              "      <td>NaN</td>\n",
              "    </tr>\n",
              "    <tr>\n",
              "      <th>1</th>\n",
              "      <td>NaN</td>\n",
              "      <td>NaN</td>\n",
              "      <td>NaN</td>\n",
              "      <td>NaN</td>\n",
              "      <td>NaN</td>\n",
              "      <td>NaN</td>\n",
              "      <td>NaN</td>\n",
              "      <td>NaN</td>\n",
              "      <td>2019-12-04 15:05:00 - 138657576</td>\n",
              "      <td>2019-12-04 03:50:00 - 23909714</td>\n",
              "      <td>NaN</td>\n",
              "      <td>NaN</td>\n",
              "      <td>NaN</td>\n",
              "      <td>NaN</td>\n",
              "      <td>NaN</td>\n",
              "      <td>2019-12-04 00:35:00 - 5168167</td>\n",
              "      <td>NaN</td>\n",
              "      <td>NaN</td>\n",
              "      <td>2019-12-04 04:20:00 - 4663591066</td>\n",
              "      <td>NaN</td>\n",
              "    </tr>\n",
              "    <tr>\n",
              "      <th>2</th>\n",
              "      <td>NaN</td>\n",
              "      <td>NaN</td>\n",
              "      <td>NaN</td>\n",
              "      <td>NaN</td>\n",
              "      <td>NaN</td>\n",
              "      <td>NaN</td>\n",
              "      <td>NaN</td>\n",
              "      <td>NaN</td>\n",
              "      <td>NaN</td>\n",
              "      <td>NaN</td>\n",
              "      <td>NaN</td>\n",
              "      <td>NaN</td>\n",
              "      <td>NaN</td>\n",
              "      <td>NaN</td>\n",
              "      <td>NaN</td>\n",
              "      <td>2019-12-04 00:50:00 - 5082771</td>\n",
              "      <td>NaN</td>\n",
              "      <td>NaN</td>\n",
              "      <td>NaN</td>\n",
              "      <td>NaN</td>\n",
              "    </tr>\n",
              "    <tr>\n",
              "      <th>3</th>\n",
              "      <td>NaN</td>\n",
              "      <td>NaN</td>\n",
              "      <td>NaN</td>\n",
              "      <td>NaN</td>\n",
              "      <td>NaN</td>\n",
              "      <td>NaN</td>\n",
              "      <td>NaN</td>\n",
              "      <td>NaN</td>\n",
              "      <td>NaN</td>\n",
              "      <td>NaN</td>\n",
              "      <td>NaN</td>\n",
              "      <td>NaN</td>\n",
              "      <td>NaN</td>\n",
              "      <td>NaN</td>\n",
              "      <td>NaN</td>\n",
              "      <td>2019-12-04 01:05:00 - 4995948</td>\n",
              "      <td>NaN</td>\n",
              "      <td>NaN</td>\n",
              "      <td>NaN</td>\n",
              "      <td>NaN</td>\n",
              "    </tr>\n",
              "    <tr>\n",
              "      <th>4</th>\n",
              "      <td>NaN</td>\n",
              "      <td>NaN</td>\n",
              "      <td>NaN</td>\n",
              "      <td>NaN</td>\n",
              "      <td>NaN</td>\n",
              "      <td>NaN</td>\n",
              "      <td>NaN</td>\n",
              "      <td>NaN</td>\n",
              "      <td>NaN</td>\n",
              "      <td>NaN</td>\n",
              "      <td>NaN</td>\n",
              "      <td>NaN</td>\n",
              "      <td>NaN</td>\n",
              "      <td>NaN</td>\n",
              "      <td>NaN</td>\n",
              "      <td>2019-12-04 01:20:00 - 4959473</td>\n",
              "      <td>NaN</td>\n",
              "      <td>NaN</td>\n",
              "      <td>NaN</td>\n",
              "      <td>NaN</td>\n",
              "    </tr>\n",
              "    <tr>\n",
              "      <th>...</th>\n",
              "      <td>...</td>\n",
              "      <td>...</td>\n",
              "      <td>...</td>\n",
              "      <td>...</td>\n",
              "      <td>...</td>\n",
              "      <td>...</td>\n",
              "      <td>...</td>\n",
              "      <td>...</td>\n",
              "      <td>...</td>\n",
              "      <td>...</td>\n",
              "      <td>...</td>\n",
              "      <td>...</td>\n",
              "      <td>...</td>\n",
              "      <td>...</td>\n",
              "      <td>...</td>\n",
              "      <td>...</td>\n",
              "      <td>...</td>\n",
              "      <td>...</td>\n",
              "      <td>...</td>\n",
              "      <td>...</td>\n",
              "    </tr>\n",
              "    <tr>\n",
              "      <th>90</th>\n",
              "      <td>NaN</td>\n",
              "      <td>NaN</td>\n",
              "      <td>NaN</td>\n",
              "      <td>NaN</td>\n",
              "      <td>NaN</td>\n",
              "      <td>NaN</td>\n",
              "      <td>NaN</td>\n",
              "      <td>NaN</td>\n",
              "      <td>NaN</td>\n",
              "      <td>NaN</td>\n",
              "      <td>NaN</td>\n",
              "      <td>NaN</td>\n",
              "      <td>NaN</td>\n",
              "      <td>NaN</td>\n",
              "      <td>NaN</td>\n",
              "      <td>2019-12-04 22:50:00 - 4646119</td>\n",
              "      <td>NaN</td>\n",
              "      <td>NaN</td>\n",
              "      <td>NaN</td>\n",
              "      <td>NaN</td>\n",
              "    </tr>\n",
              "    <tr>\n",
              "      <th>91</th>\n",
              "      <td>NaN</td>\n",
              "      <td>NaN</td>\n",
              "      <td>NaN</td>\n",
              "      <td>NaN</td>\n",
              "      <td>NaN</td>\n",
              "      <td>NaN</td>\n",
              "      <td>NaN</td>\n",
              "      <td>NaN</td>\n",
              "      <td>NaN</td>\n",
              "      <td>NaN</td>\n",
              "      <td>NaN</td>\n",
              "      <td>NaN</td>\n",
              "      <td>NaN</td>\n",
              "      <td>NaN</td>\n",
              "      <td>NaN</td>\n",
              "      <td>2019-12-04 23:05:00 - 4704292</td>\n",
              "      <td>NaN</td>\n",
              "      <td>NaN</td>\n",
              "      <td>NaN</td>\n",
              "      <td>NaN</td>\n",
              "    </tr>\n",
              "    <tr>\n",
              "      <th>92</th>\n",
              "      <td>NaN</td>\n",
              "      <td>NaN</td>\n",
              "      <td>NaN</td>\n",
              "      <td>NaN</td>\n",
              "      <td>NaN</td>\n",
              "      <td>NaN</td>\n",
              "      <td>NaN</td>\n",
              "      <td>NaN</td>\n",
              "      <td>NaN</td>\n",
              "      <td>NaN</td>\n",
              "      <td>NaN</td>\n",
              "      <td>NaN</td>\n",
              "      <td>NaN</td>\n",
              "      <td>NaN</td>\n",
              "      <td>NaN</td>\n",
              "      <td>2019-12-04 23:20:00 - 4737970</td>\n",
              "      <td>NaN</td>\n",
              "      <td>NaN</td>\n",
              "      <td>NaN</td>\n",
              "      <td>NaN</td>\n",
              "    </tr>\n",
              "    <tr>\n",
              "      <th>93</th>\n",
              "      <td>NaN</td>\n",
              "      <td>NaN</td>\n",
              "      <td>NaN</td>\n",
              "      <td>NaN</td>\n",
              "      <td>NaN</td>\n",
              "      <td>NaN</td>\n",
              "      <td>NaN</td>\n",
              "      <td>NaN</td>\n",
              "      <td>NaN</td>\n",
              "      <td>NaN</td>\n",
              "      <td>NaN</td>\n",
              "      <td>NaN</td>\n",
              "      <td>NaN</td>\n",
              "      <td>NaN</td>\n",
              "      <td>NaN</td>\n",
              "      <td>2019-12-04 23:35:00 - 4649797</td>\n",
              "      <td>NaN</td>\n",
              "      <td>NaN</td>\n",
              "      <td>NaN</td>\n",
              "      <td>NaN</td>\n",
              "    </tr>\n",
              "    <tr>\n",
              "      <th>94</th>\n",
              "      <td>NaN</td>\n",
              "      <td>NaN</td>\n",
              "      <td>NaN</td>\n",
              "      <td>NaN</td>\n",
              "      <td>NaN</td>\n",
              "      <td>NaN</td>\n",
              "      <td>NaN</td>\n",
              "      <td>NaN</td>\n",
              "      <td>NaN</td>\n",
              "      <td>NaN</td>\n",
              "      <td>NaN</td>\n",
              "      <td>NaN</td>\n",
              "      <td>NaN</td>\n",
              "      <td>NaN</td>\n",
              "      <td>NaN</td>\n",
              "      <td>2019-12-04 23:50:00 - 4694206</td>\n",
              "      <td>NaN</td>\n",
              "      <td>NaN</td>\n",
              "      <td>NaN</td>\n",
              "      <td>NaN</td>\n",
              "    </tr>\n",
              "  </tbody>\n",
              "</table>\n",
              "<p>95 rows × 20 columns</p>\n",
              "</div>"
            ],
            "text/plain": [
              "                       Date  ...  process_cpu\n",
              "0   2019-12-04 - 2019-12-04  ...          NaN\n",
              "1                       NaN  ...          NaN\n",
              "2                       NaN  ...          NaN\n",
              "3                       NaN  ...          NaN\n",
              "4                       NaN  ...          NaN\n",
              "..                      ...  ...          ...\n",
              "90                      NaN  ...          NaN\n",
              "91                      NaN  ...          NaN\n",
              "92                      NaN  ...          NaN\n",
              "93                      NaN  ...          NaN\n",
              "94                      NaN  ...          NaN\n",
              "\n",
              "[95 rows x 20 columns]"
            ]
          },
          "metadata": {
            "tags": []
          },
          "execution_count": 20
        }
      ]
    },
    {
      "cell_type": "code",
      "metadata": {
        "id": "-RK0x_p4lnoe",
        "colab_type": "code",
        "colab": {
          "base_uri": "https://localhost:8080/",
          "height": 221
        },
        "outputId": "eb25acb8-0ea5-40f5-c54c-e7a48efc814e"
      },
      "source": [
        "#x=[i for i in range(95)]\n",
        "#column=pd.Series(x)\n",
        "#column\n",
        "#generation of time stamp\n",
        "z=pd.date_range('2019-12-04', periods=288, freq='0H05T')\n",
        "column=pd.Series(z)\n",
        "column"
      ],
      "execution_count": null,
      "outputs": [
        {
          "output_type": "execute_result",
          "data": {
            "text/plain": [
              "0     2019-12-04 00:00:00\n",
              "1     2019-12-04 00:05:00\n",
              "2     2019-12-04 00:10:00\n",
              "3     2019-12-04 00:15:00\n",
              "4     2019-12-04 00:20:00\n",
              "              ...        \n",
              "283   2019-12-04 23:35:00\n",
              "284   2019-12-04 23:40:00\n",
              "285   2019-12-04 23:45:00\n",
              "286   2019-12-04 23:50:00\n",
              "287   2019-12-04 23:55:00\n",
              "Length: 288, dtype: datetime64[ns]"
            ]
          },
          "metadata": {
            "tags": []
          },
          "execution_count": 21
        }
      ]
    },
    {
      "cell_type": "code",
      "metadata": {
        "id": "XkZLq-18Op1J",
        "colab_type": "code",
        "colab": {
          "base_uri": "https://localhost:8080/",
          "height": 357
        },
        "outputId": "bbc1dff4-1e8e-473a-e66d-e53c2b93850d"
      },
      "source": [
        "data_req.columns\n",
        "rdata=data_req.fillna(\"0\")\n",
        "rdata.drop(['Date'],axis=1)\n",
        "#print(rdata)\n",
        "rdata.columns"
      ],
      "execution_count": null,
      "outputs": [
        {
          "output_type": "stream",
          "text": [
            "                       Date  ... process_cpu\n",
            "0   2019-12-04 - 2019-12-04  ...           0\n",
            "1                         0  ...           0\n",
            "2                         0  ...           0\n",
            "3                         0  ...           0\n",
            "4                         0  ...           0\n",
            "..                      ...  ...         ...\n",
            "90                        0  ...           0\n",
            "91                        0  ...           0\n",
            "92                        0  ...           0\n",
            "93                        0  ...           0\n",
            "94                        0  ...           0\n",
            "\n",
            "[95 rows x 20 columns]\n"
          ],
          "name": "stdout"
        },
        {
          "output_type": "execute_result",
          "data": {
            "text/plain": [
              "Index(['Date', 'temp_bytes', 'tx_committed', 'process_memory', 'rows_inserted',\n",
              "       'queries_conflict_cancelled', 'deadlocks', 'storage', 'rows_fetched',\n",
              "       'blocks_read', 'rows_updated', 'rows_deleted', 'backends', 'blocks_hit',\n",
              "       'memory', 'tx_rolled_back', 'temp_files', 'cpu', 'rows_returned',\n",
              "       'process_cpu'],\n",
              "      dtype='object')"
            ]
          },
          "metadata": {
            "tags": []
          },
          "execution_count": 22
        }
      ]
    },
    {
      "cell_type": "code",
      "metadata": {
        "id": "2OsenzfU2aEj",
        "colab_type": "code",
        "colab": {
          "base_uri": "https://localhost:8080/",
          "height": 714
        },
        "outputId": "a3e37a7a-5464-4038-c614-a34456766e64"
      },
      "source": [
        "#code to slice new column from given column with respect to value\n",
        "def ext (x,y):\n",
        "  for y in column.values:\n",
        "    if x=='0':\n",
        "      return '0' \n",
        "      \n",
        "    if str(y)[11:19]==x[11:19]:\n",
        "        return str(x)[22:]\n",
        "  return None\n",
        "def ext1 (x,y):\n",
        "  for y in column.values:\n",
        "    if x=='0':\n",
        "      return '0'\n",
        "    if str(y)[11:19]==x[11:19]:\n",
        "        return str(x)[11:19]\n",
        "  return None\n",
        "rdata['tx_rolled_bac_value']=rdata['tx_rolled_back'].apply(lambda x : ext(x,column))\n",
        "rdata['tx_rolled_back_time']=rdata['tx_rolled_back'].apply(lambda x : ext1(x,column))\n",
        "#print(rdata['tx_rolled_bac_value'])\n",
        "#code to slice process memory\n",
        "def ext2 (x,y):\n",
        "  for y in column.values:\n",
        "    if x=='0':\n",
        "      return '0' \n",
        "      \n",
        "    if str(y)[11:19]==x[11:19]:\n",
        "        return str(x)[35:]\n",
        "  return None\n",
        "rdata['process_memory_value']=rdata['process_memory'].apply(lambda x : ext2(x,column))\n",
        "rdata['process_memory_time']=rdata['process_memory'].apply(lambda x : ext1(x,column))\n",
        "#code to slice blocks read\n",
        "rdata['blocks_read_value']=rdata['blocks_read'].apply(lambda x : ext(x,column))\n",
        "rdata['blocks_read_time']=rdata['blocks_read'].apply(lambda x : ext1(x,column))\n",
        "#code for rows returned\n",
        "rdata['rows_returned_value']=rdata['rows_returned'].apply(lambda x : ext(x,column))\n",
        "rdata['rows_returned_time']=rdata['rows_returned'].apply(lambda x : ext1(x,column))\n",
        "#code for temp bytes\n",
        "rdata['temp_bytes_value']=rdata['temp_bytes'].apply(lambda x : ext(x,column))\n",
        "rdata['temp_bytes_time']=rdata['temp_bytes'].apply(lambda x : ext1(x,column))\n",
        "#code for tx_committed\n",
        "rdata['tx_committed_value']=rdata['tx_committed'].apply(lambda x : ext(x,column))\n",
        "rdata['tx_committed_time']=rdata['tx_committed'].apply(lambda x : ext1(x,column))\n",
        "#code for rows_inserted\n",
        "rdata['rows_inserted_value']=rdata['rows_inserted'].apply(lambda x : ext(x,column))\n",
        "rdata['rows_inserted_time']=rdata['rows_inserted'].apply(lambda x : ext1(x,column))\n",
        "#code for queries_conflict_cancelled\n",
        "rdata['queries_conflict_cancelled_value']=rdata['queries_conflict_cancelled'].apply(lambda x : ext(x,column))\n",
        "rdata['queries_conflict_cancelled_time']=rdata['queries_conflict_cancelled'].apply(lambda x : ext1(x,column))\n",
        "#code for deadlocks\n",
        "rdata['deadlocks_value']=rdata['deadlocks'].apply(lambda x : ext(x,column))\n",
        "rdata['deadlocks_time']=rdata['deadlocks'].apply(lambda x : ext1(x,column))\n",
        "#code for storage\n",
        "print(rdata['storage'][0])\n",
        "#code for rows_fetched\n",
        "rdata['rows_fetched_value']=rdata['rows_fetched'].apply(lambda x : ext(x,column))\n",
        "rdata['rows_fetched_time']=rdata['rows_fetched'].apply(lambda x : ext1(x,column))\n",
        "print(rdata)\n",
        "#code for rows_updated\n",
        "rdata['rows_updated_value']=rdata['rows_updated'].apply(lambda x : ext(x,column))\n",
        "rdata['rows_updated_time']=rdata['rows_updated'].apply(lambda x : ext1(x,column))\n",
        "#code for rows_deleted\n",
        "rdata['rows_deleted_value']=rdata['rows_deleted'].apply(lambda x : ext(x,column))\n",
        "rdata['rows_deleted_time']=rdata['rows_deleted'].apply(lambda x : ext1(x,column))\n",
        "#code for backends\n",
        "rdata['backends_value']=rdata['backends'].apply(lambda x : ext(x,column))\n",
        "rdata['backends_time']=rdata['backends'].apply(lambda x : ext1(x,column))\n",
        "#code for blocks_hit\n",
        "rdata['blocks_hit_value']=rdata['blocks_hit'].apply(lambda x : ext(x,column))\n",
        "rdata['blocks_hit_time']=rdata['blocks_hit'].apply(lambda x : ext1(x,column))\n",
        "#code for memory\n",
        "rdata['memory_value']=rdata['memory'].apply(lambda x : ext(x,column))\n",
        "rdata['memory_time']=rdata['memory'].apply(lambda x : ext1(x,column))\n",
        "#code for temp_files\n",
        "rdata['temp_files_value']=rdata['temp_files'].apply(lambda x : ext(x,column))\n",
        "rdata['temp_files_time']=rdata['temp_files'].apply(lambda x : ext1(x,column))\n",
        "#code for cpu\n",
        "rdata['cpu_value']=rdata['cpu'].apply(lambda x : ext(x,column))\n",
        "rdata['cpu_time']=rdata['cpu'].apply(lambda x : ext1(x,column))\n",
        "#code for process_cpu\n",
        "rdata['process_cpu_value']=rdata['process_cpu'].apply(lambda x : ext(x,column))\n",
        "rdata['process_cpu_time']=rdata['process_cpu'].apply(lambda x : ext1(x,column))\n",
        "print(rdata)"
      ],
      "execution_count": null,
      "outputs": [
        {
          "output_type": "stream",
          "text": [
            "0     5241570\n",
            "1     5168167\n",
            "2     5082771\n",
            "3     4995948\n",
            "4     4959473\n",
            "       ...   \n",
            "90    4646119\n",
            "91    4704292\n",
            "92    4737970\n",
            "93    4649797\n",
            "94    4694206\n",
            "Name: tx_rolled_bac_value, Length: 95, dtype: object\n",
            "postgres_fs - 7.7\n",
            "                       Date temp_bytes  ... rows_fetched_value rows_fetched_time\n",
            "0   2019-12-04 - 2019-12-04          0  ...          197126066          14:50:00\n",
            "1                         0          0  ...          138657576          15:05:00\n",
            "2                         0          0  ...                  0                 0\n",
            "3                         0          0  ...                  0                 0\n",
            "4                         0          0  ...                  0                 0\n",
            "..                      ...        ...  ...                ...               ...\n",
            "90                        0          0  ...                  0                 0\n",
            "91                        0          0  ...                  0                 0\n",
            "92                        0          0  ...                  0                 0\n",
            "93                        0          0  ...                  0                 0\n",
            "94                        0          0  ...                  0                 0\n",
            "\n",
            "[95 rows x 40 columns]\n",
            "                       Date temp_bytes  ... process_cpu_value process_cpu_time\n",
            "0   2019-12-04 - 2019-12-04          0  ...                 0                0\n",
            "1                         0          0  ...                 0                0\n",
            "2                         0          0  ...                 0                0\n",
            "3                         0          0  ...                 0                0\n",
            "4                         0          0  ...                 0                0\n",
            "..                      ...        ...  ...               ...              ...\n",
            "90                        0          0  ...                 0                0\n",
            "91                        0          0  ...                 0                0\n",
            "92                        0          0  ...                 0                0\n",
            "93                        0          0  ...                 0                0\n",
            "94                        0          0  ...                 0                0\n",
            "\n",
            "[95 rows x 56 columns]\n"
          ],
          "name": "stdout"
        }
      ]
    },
    {
      "cell_type": "code",
      "metadata": {
        "id": "BH0Y2KdfsGVo",
        "colab_type": "code",
        "colab": {
          "base_uri": "https://localhost:8080/",
          "height": 34
        },
        "outputId": "2e8d91fe-ca27-4bcc-8a48-718a08cff374"
      },
      "source": [
        "#rdata.columns\n",
        "rdata.drop(['Date','temp_bytes', 'tx_committed', 'process_memory', 'rows_inserted',\n",
        "       'queries_conflict_cancelled', 'deadlocks', 'storage', 'rows_fetched',\n",
        "       'blocks_read', 'rows_updated', 'rows_deleted', 'backends', 'blocks_hit',\n",
        "       'memory', 'tx_rolled_back', 'temp_files', 'cpu', 'rows_returned',\n",
        "       'process_cpu'],axis=1)\n",
        "#pd.isna(rdata['tx_rolled_bac_value']).sum()"
      ],
      "execution_count": null,
      "outputs": [
        {
          "output_type": "execute_result",
          "data": {
            "text/plain": [
              "0"
            ]
          },
          "metadata": {
            "tags": []
          },
          "execution_count": 24
        }
      ]
    },
    {
      "cell_type": "code",
      "metadata": {
        "id": "5Zr_b8N2pgGV",
        "colab_type": "code",
        "colab": {
          "base_uri": "https://localhost:8080/",
          "height": 221
        },
        "outputId": "0aea9f65-f8cf-4527-f637-167597cb7344"
      },
      "source": [
        "#conversion of dataframe to series for tx_rolled_back\n",
        "y=rdata['tx_rolled_bac_value'].values.astype(int)\n",
        "y_f=pd.Series(y)\n",
        "z=rdata['tx_rolled_back_time'].values\n",
        "z_f=pd.Series(z)\n",
        "print(z_f)\n",
        "#temp_bytes\n",
        "M=rdata['temp_bytes_value'].values.astype(int)\n",
        "M_f=pd.Series(M)\n",
        "N=rdata['temp_bytes_time'].values\n",
        "N_f=pd.Series(N)\n",
        "#tx_committed\n",
        "a=rdata['tx_committed_value'].values.astype(int)\n",
        "a_f=pd.Series(a)\n",
        "b=rdata['tx_committed_time'].values\n",
        "b_f=pd.Series(b)\n",
        "#process_memory\n",
        "c=rdata['process_memory_value'].values.astype(int)\n",
        "c_f=pd.Series(c)\n",
        "d=rdata['process_memory_time'].values\n",
        "d_f=pd.Series(d)\n",
        "#rows_inserted\n",
        "e=rdata['rows_inserted_value'].values.astype(int)\n",
        "e_f=pd.Series(e)\n",
        "f=rdata['rows_inserted_time'].values\n",
        "f_f=pd.Series(f)\n",
        "#queries_conflict_cancelled\n",
        "g=rdata['queries_conflict_cancelled_value'].values.astype(int)\n",
        "g_f=pd.Series(g)\n",
        "h=rdata['queries_conflict_cancelled_time'].values\n",
        "h_f=pd.Series(h)\n",
        "#deadlocks\n",
        "i=rdata['deadlocks_value'].values.astype(int)\n",
        "i_f=pd.Series(i)\n",
        "j=rdata['deadlocks_time'].values\n",
        "j_f=pd.Series(j)\n",
        "#rows_fetched\n",
        "k=rdata['rows_fetched_value'].values.astype(int)\n",
        "k_f=pd.Series(k)\n",
        "l=rdata['rows_fetched_time'].values\n",
        "l_f=pd.Series(l)\n",
        "#blocks_read\n",
        "m=rdata['blocks_read_value'].values.astype(int)\n",
        "m_f=pd.Series(m)\n",
        "n=rdata['blocks_read_time'].values\n",
        "n_f=pd.Series(n)\n",
        "#rows_updated\n",
        "o=rdata['rows_updated_value'].values.astype(int)\n",
        "o_f=pd.Series(o)\n",
        "p=rdata['rows_updated_time'].values\n",
        "p_f=pd.Series(p)\n",
        "#rows_deleted\n",
        "q=rdata['rows_deleted_value'].values.astype(int)\n",
        "q_f=pd.Series(q)\n",
        "r=rdata['rows_deleted_time'].values\n",
        "r_f=pd.Series(r)\n",
        "#backends\n",
        "s=rdata['backends_value'].values.astype(int)\n",
        "s_f=pd.Series(s)\n",
        "t=rdata['backends_time'].values\n",
        "t_f=pd.Series(t)\n",
        "#blocks_hit\n",
        "u=rdata['blocks_hit_value'].values.astype(int)\n",
        "u_f=pd.Series(u)\n",
        "v=rdata['blocks_hit_time'].values\n",
        "v_f=pd.Series(v)\n",
        "#memory\n",
        "w=rdata['memory_value'].values.astype(int)\n",
        "w_f=pd.Series(w)\n",
        "A=rdata['memory_time'].values\n",
        "A_f=pd.Series(A)\n",
        "#temp_files\n",
        "B=rdata['temp_files_value'].values.astype(int)\n",
        "B_f=pd.Series(B)\n",
        "C=rdata['temp_files_time'].values\n",
        "C_f=pd.Series(C)\n",
        "#cpu\n",
        "D=rdata['cpu_value'].values.astype(int)\n",
        "D_f=pd.Series(D)\n",
        "E=rdata['cpu_time'].values\n",
        "E_f=pd.Series(E)\n",
        "#rows_returned\n",
        "F=rdata['rows_returned_value'].values.astype(int)\n",
        "F_f=pd.Series(F)\n",
        "G=rdata['rows_returned_time'].values\n",
        "G_f=pd.Series(G)\n",
        "#process_cpu\n",
        "H=rdata['process_cpu_value'].values.astype(int)\n",
        "H_f=pd.Series(H)\n",
        "I=rdata['process_cpu_time'].values\n",
        "I_f=pd.Series(I)"
      ],
      "execution_count": null,
      "outputs": [
        {
          "output_type": "stream",
          "text": [
            "0     00:20:00\n",
            "1     00:35:00\n",
            "2     00:50:00\n",
            "3     01:05:00\n",
            "4     01:20:00\n",
            "        ...   \n",
            "90    22:50:00\n",
            "91    23:05:00\n",
            "92    23:20:00\n",
            "93    23:35:00\n",
            "94    23:50:00\n",
            "Length: 95, dtype: object\n"
          ],
          "name": "stdout"
        }
      ]
    },
    {
      "cell_type": "code",
      "metadata": {
        "id": "9zEw_KoYsZiL",
        "colab_type": "code",
        "colab": {
          "base_uri": "https://localhost:8080/",
          "height": 1000
        },
        "outputId": "c8714c61-7a68-4219-c81d-b05325566be5"
      },
      "source": [
        "#plt.figure(figsize=(10,10))\n",
        "plt.subplot(3,6,1)\n",
        "plt.xlabel('tx_rolled_back_time')\n",
        "plt.ylabel('tx_rolled_back_value')\n",
        "plt.title('tx_rolled_back graph')\n",
        "plt.plot(z_f,y_f)\n",
        "plt.show()\n",
        "plt.subplot(3,6,2)\n",
        "plt.xlabel('temp_bytes_time')\n",
        "plt.ylabel('temp_bytes_value')\n",
        "plt.title('temp_bytes graph')\n",
        "plt.plot(N_f,M_f)\n",
        "plt.show()\n",
        "plt.subplot(3,6,3)\n",
        "plt.xlabel('tx_committed_time')\n",
        "plt.ylabel('tx_committed_value')\n",
        "plt.title('tx_committed graph')\n",
        "plt.plot(b_f,a_f)\n",
        "plt.show()\n",
        "plt.subplot(3,6,4)\n",
        "plt.xlabel('process_memory_time')\n",
        "plt.ylabel('process_memory_value')\n",
        "plt.title('process_memory graph')\n",
        "plt.plot(d_f,c_f)\n",
        "plt.show()\n",
        "plt.subplot(3,6,5)\n",
        "plt.xlabel('rows_inserted_time')\n",
        "plt.ylabel('rows_inserted_value')\n",
        "plt.title('rows_inserted graph')\n",
        "plt.plot(f_f,e_f)\n",
        "plt.show()\n",
        "plt.subplot(3,6,6)\n",
        "plt.xlabel('queries_conflict_cancelled_time')\n",
        "plt.ylabel('queries_conflict_cancelled_value')\n",
        "plt.title('queries_conflict_cancelled graph')\n",
        "plt.plot(h_f,g_f)\n",
        "plt.show()\n",
        "plt.subplot(3,6,7)\n",
        "plt.xlabel('deadlocks_time')\n",
        "plt.ylabel('deadlocks_value')\n",
        "plt.title('deadlocks graph')\n",
        "plt.plot(j_f,i_f)\n",
        "plt.show()\n",
        "plt.subplot(3,6,8)\n",
        "plt.xlabel('rows_fetched_time')\n",
        "plt.ylabel('rows_fetched_value')\n",
        "plt.title('rows_fetched graph')\n",
        "plt.plot(l_f,k_f)\n",
        "plt.show()\n",
        "plt.subplot(3,6,9)\n",
        "plt.xlabel('blocks_read_time')\n",
        "plt.ylabel('blocks_read_value')\n",
        "plt.title('blocks_read graph')\n",
        "plt.plot(n_f,m_f)\n",
        "plt.show()\n",
        "plt.subplot(3,6,10)\n",
        "plt.xlabel('rows_updated_time')\n",
        "plt.ylabel('rows_updated_value')\n",
        "plt.title('rows_updated graph')\n",
        "plt.plot(p_f,o_f)\n",
        "plt.show()\n",
        "plt.subplot(3,6,11)\n",
        "plt.xlabel('rows_deleted_time')\n",
        "plt.ylabel('rows_deleted_value')\n",
        "plt.title('rows_deleted graph')\n",
        "plt.plot(r_f,q_f)\n",
        "plt.show()\n",
        "plt.subplot(3,6,12)\n",
        "plt.xlabel('backends_time')\n",
        "plt.ylabel('backends_value')\n",
        "plt.title('backends graph')\n",
        "plt.plot(t_f,s_f)\n",
        "plt.show()\n",
        "plt.subplot(3,6,13)\n",
        "plt.xlabel('blocks_hit_time')\n",
        "plt.ylabel('blocks_hit_value')\n",
        "plt.title('blocks_hit graph')\n",
        "plt.plot(v_f,u_f)\n",
        "plt.show()\n",
        "plt.subplot(3,6,14)\n",
        "plt.xlabel('memory_time')\n",
        "plt.ylabel('memory_value')\n",
        "plt.title('memory graph')\n",
        "plt.plot(A_f,w_f)\n",
        "plt.show()\n",
        "plt.subplot(3,6,15)\n",
        "plt.xlabel('temp_files_time')\n",
        "plt.ylabel('temp_files_value')\n",
        "plt.title('temp_files graph')\n",
        "plt.plot(C_f,B_f)\n",
        "plt.show()\n",
        "plt.subplot(3,6,16)\n",
        "plt.xlabel('cpu_time')\n",
        "plt.ylabel('cpu_value')\n",
        "plt.title('cpu graph')\n",
        "plt.plot(E_f,D_f)\n",
        "plt.show()\n",
        "plt.subplot(3,6,17)\n",
        "plt.xlabel('rows_returned_time')\n",
        "plt.ylabel('rows_returned_value')\n",
        "plt.title('rows_returned graph')\n",
        "plt.plot(G_f,F_f)\n",
        "plt.show()\n",
        "plt.subplot(3,6,18)\n",
        "plt.xlabel('process_cpu_time')\n",
        "plt.ylabel('process_cpu_value')\n",
        "plt.title('process_cpu graph')\n",
        "plt.plot(I_f,H_f)\n",
        "plt.show()"
      ],
      "execution_count": null,
      "outputs": [
        {
          "output_type": "display_data",
          "data": {
            "image/png": "[encoded data removed]",
            "text/plain": [
              "<Figure size 432x288 with 1 Axes>"
            ]
          },
          "metadata": {
            "tags": []
          }
        },
        {
          "output_type": "display_data",
          "data": {
            "image/png": "[encoded data removed]",
            "text/plain": [
              "<Figure size 432x288 with 1 Axes>"
            ]
          },
          "metadata": {
            "tags": []
          }
        },
        {
          "output_type": "display_data",
          "data": {
            "image/png": "[encoded data removed]",
            "text/plain": [
              "<Figure size 432x288 with 1 Axes>"
            ]
          },
          "metadata": {
            "tags": []
          }
        },
        {
          "output_type": "display_data",
          "data": {
            "image/png": "[encoded data removed]",
            "text/plain": [
              "<Figure size 432x288 with 1 Axes>"
            ]
          },
          "metadata": {
            "tags": []
          }
        },
        {
          "output_type": "display_data",
          "data": {
            "image/png": "[encoded data removed]",
            "text/plain": [
              "<Figure size 432x288 with 1 Axes>"
            ]
          },
          "metadata": {
            "tags": []
          }
        },
        {
          "output_type": "display_data",
          "data": {
            "image/png": "[encoded data removed]",
            "text/plain": [
              "<Figure size 432x288 with 1 Axes>"
            ]
          },
          "metadata": {
            "tags": []
          }
        },
        {
          "output_type": "display_data",
          "data": {
            "image/png": "[encoded data removed]",
            "text/plain": [
              "<Figure size 432x288 with 1 Axes>"
            ]
          },
          "metadata": {
            "tags": []
          }
        },
        {
          "output_type": "display_data",
          "data": {
            "image/png": "[encoded data removed]",
            "text/plain": [
              "<Figure size 432x288 with 1 Axes>"
            ]
          },
          "metadata": {
            "tags": []
          }
        },
        {
          "output_type": "display_data",
          "data": {
            "image/png": "[encoded data removed]",
            "text/plain": [
              "<Figure size 432x288 with 1 Axes>"
            ]
          },
          "metadata": {
            "tags": []
          }
        },
        {
          "output_type": "display_data",
          "data": {
            "image/png": "[encoded data removed]",
            "text/plain": [
              "<Figure size 432x288 with 1 Axes>"
            ]
          },
          "metadata": {
            "tags": []
          }
        },
        {
          "output_type": "display_data",
          "data": {
            "image/png": "[encoded data removed]",
            "text/plain": [
              "<Figure size 432x288 with 1 Axes>"
            ]
          },
          "metadata": {
            "tags": []
          }
        },
        {
          "output_type": "display_data",
          "data": {
            "image/png": "[encoded data removed]",
            "text/plain": [
              "<Figure size 432x288 with 1 Axes>"
            ]
          },
          "metadata": {
            "tags": []
          }
        },
        {
          "output_type": "display_data",
          "data": {
            "image/png": "[encoded data removed]",
            "text/plain": [
              "<Figure size 432x288 with 1 Axes>"
            ]
          },
          "metadata": {
            "tags": []
          }
        },
        {
          "output_type": "display_data",
          "data": {
            "image/png": "[encoded data removed]",
            "text/plain": [
              "<Figure size 432x288 with 1 Axes>"
            ]
          },
          "metadata": {
            "tags": []
          }
        },
        {
          "output_type": "display_data",
          "data": {
            "image/png": "[encoded data removed]",
            "text/plain": [
              "<Figure size 432x288 with 1 Axes>"
            ]
          },
          "metadata": {
            "tags": []
          }
        },
        {
          "output_type": "display_data",
          "data": {
            "image/png": "[encoded data removed]",
            "text/plain": [
              "<Figure size 432x288 with 1 Axes>"
            ]
          },
          "metadata": {
            "tags": []
          }
        },
        {
          "output_type": "display_data",
          "data": {
            "image/png": "[encoded data removed]",
            "text/plain": [
              "<Figure size 432x288 with 1 Axes>"
            ]
          },
          "metadata": {
            "tags": []
          }
        },
        {
          "output_type": "display_data",
          "data": {
            "image/png": "[encoded data removed]",
            "text/plain": [
              "<Figure size 432x288 with 1 Axes>"
            ]
          },
          "metadata": {
            "tags": []
          }
        }
      ]
    }
  ]
}